{
 "cells": [
  {
   "cell_type": "code",
   "execution_count": 13,
   "id": "389e60e7",
   "metadata": {},
   "outputs": [],
   "source": [
    "import threading"
   ]
  },
  {
   "cell_type": "code",
   "execution_count": 14,
   "id": "a30b283b",
   "metadata": {},
   "outputs": [],
   "source": [
    "def test(id):\n",
    "    print(\"prog start %d \"% id)"
   ]
  },
  {
   "cell_type": "code",
   "execution_count": 15,
   "id": "59e6b6ec",
   "metadata": {},
   "outputs": [
    {
     "name": "stdout",
     "output_type": "stream",
     "text": [
      "prog start 14 \n"
     ]
    }
   ],
   "source": [
    "test(14)"
   ]
  },
  {
   "cell_type": "code",
   "execution_count": 16,
   "id": "008a3d7b",
   "metadata": {},
   "outputs": [],
   "source": [
    "thread = [threading.Thread(target = test, args=(i,)) for i in range(10)]"
   ]
  },
  {
   "cell_type": "code",
   "execution_count": 17,
   "id": "4af2131f",
   "metadata": {},
   "outputs": [
    {
     "name": "stdout",
     "output_type": "stream",
     "text": [
      "prog start 0 \n",
      "prog start 1 \n",
      "prog start 2 \n",
      "prog start 3 \n",
      "prog start 4 \n",
      "prog start 5 \n",
      "prog start 6 \n",
      "prog start 7 \n",
      "prog start 8 \n",
      "prog start 9 \n"
     ]
    }
   ],
   "source": [
    "for t in thread:\n",
    "    t.start()"
   ]
  },
  {
   "cell_type": "code",
   "execution_count": 18,
   "id": "30e01424",
   "metadata": {},
   "outputs": [
    {
     "data": {
      "text/plain": [
       "[0, 1, 2, 3, 4, 5, 6, 7, 8, 9]"
      ]
     },
     "execution_count": 18,
     "metadata": {},
     "output_type": "execute_result"
    }
   ],
   "source": [
    "list(range(10))"
   ]
  },
  {
   "cell_type": "code",
   "execution_count": 19,
   "id": "1c430140",
   "metadata": {},
   "outputs": [
    {
     "data": {
      "text/plain": [
       "[<Thread(Thread-5 (test), stopped 6227030016)>,\n",
       " <Thread(Thread-6 (test), stopped 6227030016)>,\n",
       " <Thread(Thread-7 (test), stopped 6227030016)>,\n",
       " <Thread(Thread-8 (test), stopped 6227030016)>,\n",
       " <Thread(Thread-9 (test), stopped 6227030016)>,\n",
       " <Thread(Thread-10 (test), stopped 6227030016)>,\n",
       " <Thread(Thread-11 (test), stopped 6227030016)>,\n",
       " <Thread(Thread-12 (test), stopped 6227030016)>,\n",
       " <Thread(Thread-13 (test), stopped 6227030016)>,\n",
       " <Thread(Thread-14 (test), stopped 6227030016)>]"
      ]
     },
     "execution_count": 19,
     "metadata": {},
     "output_type": "execute_result"
    }
   ],
   "source": [
    "thread"
   ]
  },
  {
   "cell_type": "code",
   "execution_count": 20,
   "id": "62678eae",
   "metadata": {},
   "outputs": [
    {
     "data": {
      "text/plain": [
       "4736018560"
      ]
     },
     "execution_count": 20,
     "metadata": {},
     "output_type": "execute_result"
    }
   ],
   "source": [
    "id(thread)"
   ]
  },
  {
   "cell_type": "code",
   "execution_count": 32,
   "id": "4daf7141",
   "metadata": {},
   "outputs": [],
   "source": [
    "import threading\n",
    "import urllib.request\n",
    "\n",
    "def file_download(url, filename):\n",
    "    urllib.request.urlretrieve(url,filename)"
   ]
  },
  {
   "cell_type": "code",
   "execution_count": 34,
   "id": "c6785699",
   "metadata": {},
   "outputs": [],
   "source": [
    "file_download('https://github.com/itsfoss/text-files/blob/master/agatha.txt' , \"thread.txt\")"
   ]
  },
  {
   "cell_type": "code",
   "execution_count": 35,
   "id": "a63daf1e",
   "metadata": {},
   "outputs": [],
   "source": [
    "url_list = ['https://github.com/itsfoss/text-files/blob/master/agatha.txt','https://github.com/itsfoss/text-files/blob/master/sherlock.txt', 'https://github.com/itsfoss/text-files/blob/master/sample_log_file.txt' ]"
   ]
  },
  {
   "cell_type": "code",
   "execution_count": 36,
   "id": "e7503dab",
   "metadata": {},
   "outputs": [
    {
     "data": {
      "text/plain": [
       "['https://github.com/itsfoss/text-files/blob/master/agatha.txt',\n",
       " 'https://github.com/itsfoss/text-files/blob/master/sherlock.txt',\n",
       " 'https://github.com/itsfoss/text-files/blob/master/sample_log_file.txt']"
      ]
     },
     "execution_count": 36,
     "metadata": {},
     "output_type": "execute_result"
    }
   ],
   "source": [
    "url_list"
   ]
  },
  {
   "cell_type": "code",
   "execution_count": 37,
   "id": "3827de56",
   "metadata": {},
   "outputs": [],
   "source": [
    "file_name_list = ['thr_data1.txt','thr_data2.txt','thr_data3.txt']"
   ]
  },
  {
   "cell_type": "code",
   "execution_count": 39,
   "id": "a4f0d2b3",
   "metadata": {},
   "outputs": [],
   "source": [
    "ther = [threading.Thread(target = file_download, args = (url_list[i], file_name_list[i])) for i in range(len(url_list))]"
   ]
  },
  {
   "cell_type": "code",
   "execution_count": 40,
   "id": "843ac182",
   "metadata": {},
   "outputs": [
    {
     "data": {
      "text/plain": [
       "[<Thread(Thread-15 (file_download), initial)>,\n",
       " <Thread(Thread-16 (file_download), initial)>,\n",
       " <Thread(Thread-17 (file_download), initial)>]"
      ]
     },
     "execution_count": 40,
     "metadata": {},
     "output_type": "execute_result"
    }
   ],
   "source": [
    "ther"
   ]
  },
  {
   "cell_type": "code",
   "execution_count": 41,
   "id": "c8fedd19",
   "metadata": {},
   "outputs": [],
   "source": [
    "for t in ther:\n",
    "    t.start()"
   ]
  },
  {
   "cell_type": "code",
   "execution_count": 42,
   "id": "ff39e6e2",
   "metadata": {},
   "outputs": [
    {
     "data": {
      "text/plain": [
       "[<Thread(Thread-15 (file_download), stopped 6227030016)>,\n",
       " <Thread(Thread-16 (file_download), stopped 6243856384)>,\n",
       " <Thread(Thread-17 (file_download), stopped 6260682752)>]"
      ]
     },
     "execution_count": 42,
     "metadata": {},
     "output_type": "execute_result"
    }
   ],
   "source": [
    "ther"
   ]
  },
  {
   "cell_type": "code",
   "execution_count": 43,
   "id": "858106f9",
   "metadata": {},
   "outputs": [],
   "source": [
    "import time"
   ]
  },
  {
   "cell_type": "code",
   "execution_count": 102,
   "id": "e84b93cf",
   "metadata": {},
   "outputs": [],
   "source": [
    "def test1(id):\n",
    "    for i in range(10):\n",
    "        print(\"test1 %d printing %d %s\" %(id, i, time.ctime()))\n",
    "        time.sleep(1)"
   ]
  },
  {
   "cell_type": "code",
   "execution_count": 103,
   "id": "a2cecf4d",
   "metadata": {},
   "outputs": [
    {
     "name": "stdout",
     "output_type": "stream",
     "text": [
      "test1 1 printing 0 Mon Mar 20 11:19:20 2023\n",
      "test1 1 printing 1 Mon Mar 20 11:19:21 2023\n",
      "test1 1 printing 2 Mon Mar 20 11:19:22 2023\n",
      "test1 1 printing 3 Mon Mar 20 11:19:23 2023\n",
      "test1 1 printing 4 Mon Mar 20 11:19:24 2023\n",
      "test1 1 printing 5 Mon Mar 20 11:19:25 2023\n",
      "test1 1 printing 6 Mon Mar 20 11:19:26 2023\n",
      "test1 1 printing 7 Mon Mar 20 11:19:27 2023\n",
      "test1 1 printing 8 Mon Mar 20 11:19:28 2023\n",
      "test1 1 printing 9 Mon Mar 20 11:19:29 2023\n"
     ]
    }
   ],
   "source": [
    "test1(1)"
   ]
  },
  {
   "cell_type": "code",
   "execution_count": null,
   "id": "459cdc88",
   "metadata": {},
   "outputs": [],
   "source": []
  },
  {
   "cell_type": "code",
   "execution_count": 104,
   "id": "87d43b05",
   "metadata": {},
   "outputs": [],
   "source": [
    "thread1 = [threading.Thread(target=test1, args = (i,)) for i in range(3)]"
   ]
  },
  {
   "cell_type": "code",
   "execution_count": 105,
   "id": "ed337f98",
   "metadata": {},
   "outputs": [
    {
     "name": "stdout",
     "output_type": "stream",
     "text": [
      "test1 0 printing 0 Mon Mar 20 11:22:04 2023\n",
      "test1 1 printing 0 Mon Mar 20 11:22:04 2023\n",
      "test1 2 printing 0 Mon Mar 20 11:22:04 2023\n",
      "test1 0 printing 1 Mon Mar 20 11:22:05 2023test1 2 printing 1 Mon Mar 20 11:22:05 2023\n",
      "\n",
      "test1 1 printing 1 Mon Mar 20 11:22:05 2023\n",
      "test1 0 printing 2 Mon Mar 20 11:22:06 2023\n",
      "test1 1 printing 2 Mon Mar 20 11:22:06 2023\n",
      "test1 2 printing 2 Mon Mar 20 11:22:06 2023\n",
      "test1 0 printing 3 Mon Mar 20 11:22:07 2023test1 1 printing 3 Mon Mar 20 11:22:07 2023\n",
      "\n",
      "test1 2 printing 3 Mon Mar 20 11:22:07 2023\n",
      "test1 1 printing 4 Mon Mar 20 11:22:08 2023test1 0 printing 4 Mon Mar 20 11:22:08 2023\n",
      "test1 2 printing 4 Mon Mar 20 11:22:08 2023\n",
      "\n",
      "test1 2 printing 5 Mon Mar 20 11:22:09 2023test1 1 printing 5 Mon Mar 20 11:22:09 2023\n",
      "\n",
      "test1 0 printing 5 Mon Mar 20 11:22:09 2023\n",
      "test1 1 printing 6 Mon Mar 20 11:22:10 2023\n",
      "test1 0 printing 6 Mon Mar 20 11:22:10 2023\n",
      "test1 2 printing 6 Mon Mar 20 11:22:10 2023\n",
      "test1 1 printing 7 Mon Mar 20 11:22:11 2023test1 0 printing 7 Mon Mar 20 11:22:11 2023\n",
      "test1 2 printing 7 Mon Mar 20 11:22:11 2023\n",
      "\n",
      "test1 0 printing 8 Mon Mar 20 11:22:12 2023test1 2 printing 8 Mon Mar 20 11:22:12 2023\n",
      "\n",
      "test1 1 printing 8 Mon Mar 20 11:22:12 2023\n",
      "test1 2 printing 9 Mon Mar 20 11:22:13 2023test1 0 printing 9 Mon Mar 20 11:22:13 2023\n",
      "test1 1 printing 9 Mon Mar 20 11:22:13 2023\n",
      "\n"
     ]
    }
   ],
   "source": [
    "for t in thread1:   #here context switching takes place as it has time to sleep\n",
    "    t.start()"
   ]
  },
  {
   "cell_type": "code",
   "execution_count": 106,
   "id": "8f7e3513",
   "metadata": {},
   "outputs": [],
   "source": [
    "def test1(id):\n",
    "    for i in range(10):\n",
    "        print(\"test1 %d printing %d\" %(id, i))"
   ]
  },
  {
   "cell_type": "code",
   "execution_count": 107,
   "id": "47264394",
   "metadata": {},
   "outputs": [],
   "source": [
    "thread1 = [threading.Thread(target=test1, args = (i,)) for i in range(3)]"
   ]
  },
  {
   "cell_type": "code",
   "execution_count": 108,
   "id": "afc9bdad",
   "metadata": {},
   "outputs": [
    {
     "name": "stdout",
     "output_type": "stream",
     "text": [
      "test1 0 printing 0\n",
      "test1 0 printing 1\n",
      "test1 0 printing 2\n",
      "test1 0 printing 3\n",
      "test1 0 printing 4\n",
      "test1 0 printing 5\n",
      "test1 0 printing 6\n",
      "test1 0 printing 7\n",
      "test1 0 printing 8\n",
      "test1 0 printing 9\n",
      "test1 1 printing 0\n",
      "test1 1 printing 1\n",
      "test1 1 printing 2\n",
      "test1 1 printing 3\n",
      "test1 1 printing 4\n",
      "test1 1 printing 5\n",
      "test1 1 printing 6\n",
      "test1 1 printing 7\n",
      "test1 1 printing 8\n",
      "test1 1 printing 9\n",
      "test1 2 printing 0\n",
      "test1 2 printing 1\n",
      "test1 2 printing 2\n",
      "test1 2 printing 3\n",
      "test1 2 printing 4\n",
      "test1 2 printing 5\n",
      "test1 2 printing 6\n",
      "test1 2 printing 7\n",
      "test1 2 printing 8\n",
      "test1 2 printing 9\n"
     ]
    }
   ],
   "source": [
    "for t in thread1: #here context switching doesn't takes place as it has no time to sleep\n",
    "    t.start()"
   ]
  },
  {
   "cell_type": "code",
   "execution_count": null,
   "id": "964c1a22",
   "metadata": {},
   "outputs": [],
   "source": []
  },
  {
   "cell_type": "code",
   "execution_count": 109,
   "id": "9db8050e",
   "metadata": {},
   "outputs": [],
   "source": [
    "shared_var = 0\n",
    "lock_var = threading.Lock()"
   ]
  },
  {
   "cell_type": "code",
   "execution_count": 121,
   "id": "fec226f6",
   "metadata": {},
   "outputs": [],
   "source": [
    "def test2(id):\n",
    "    global shared_var\n",
    "    with lock_var:\n",
    "        shared_var = shared_var+1\n",
    "        print(\"test2 id is %d has increased the shared variable by %d \" %(id, shared_var))\n",
    "        time.sleep(1)"
   ]
  },
  {
   "cell_type": "code",
   "execution_count": 122,
   "id": "93fd3dec",
   "metadata": {},
   "outputs": [],
   "source": [
    "ther3 = [threading.Thread(target=test2, args = (i,)) for i in range(3)]"
   ]
  },
  {
   "cell_type": "code",
   "execution_count": 123,
   "id": "d7d62c78",
   "metadata": {},
   "outputs": [
    {
     "data": {
      "text/plain": [
       "[<Thread(Thread-81 (test2), initial)>,\n",
       " <Thread(Thread-82 (test2), initial)>,\n",
       " <Thread(Thread-83 (test2), initial)>]"
      ]
     },
     "execution_count": 123,
     "metadata": {},
     "output_type": "execute_result"
    }
   ],
   "source": [
    "ther3"
   ]
  },
  {
   "cell_type": "code",
   "execution_count": 124,
   "id": "06995ee6",
   "metadata": {},
   "outputs": [
    {
     "name": "stdout",
     "output_type": "stream",
     "text": [
      "test2 id is 0 has increased the shared variable by 4 \n",
      "test2 id is 1 has increased the shared variable by 5 \n",
      "test2 id is 2 has increased the shared variable by 6 \n"
     ]
    }
   ],
   "source": [
    "for t in ther3:\n",
    "    t.start()"
   ]
  },
  {
   "cell_type": "code",
   "execution_count": null,
   "id": "f9ea9fb0",
   "metadata": {},
   "outputs": [],
   "source": []
  },
  {
   "cell_type": "code",
   "execution_count": null,
   "id": "572bd9ad",
   "metadata": {},
   "outputs": [],
   "source": []
  }
 ],
 "metadata": {
  "kernelspec": {
   "display_name": "Python 3 (ipykernel)",
   "language": "python",
   "name": "python3"
  },
  "language_info": {
   "codemirror_mode": {
    "name": "ipython",
    "version": 3
   },
   "file_extension": ".py",
   "mimetype": "text/x-python",
   "name": "python",
   "nbconvert_exporter": "python",
   "pygments_lexer": "ipython3",
   "version": "3.10.6"
  }
 },
 "nbformat": 4,
 "nbformat_minor": 5
}
