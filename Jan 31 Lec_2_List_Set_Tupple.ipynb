{
 "cells": [
  {
   "cell_type": "code",
   "execution_count": 2,
   "id": "56989619-bcca-4413-aea5-ccda6a27a4ae",
   "metadata": {},
   "outputs": [],
   "source": [
    "a =[1, 345, 78,True, \"Aamir\", 5+7j, 48.9009]"
   ]
  },
  {
   "cell_type": "code",
   "execution_count": 3,
   "id": "fa155eee-60a3-4fb2-ab0e-4c435968bd96",
   "metadata": {},
   "outputs": [
    {
     "data": {
      "text/plain": [
       "list"
      ]
     },
     "execution_count": 3,
     "metadata": {},
     "output_type": "execute_result"
    }
   ],
   "source": [
    "type(a)"
   ]
  },
  {
   "cell_type": "code",
   "execution_count": 4,
   "id": "2aaafea0-2c29-4fee-af59-17d33c6e9920",
   "metadata": {},
   "outputs": [
    {
     "data": {
      "text/plain": [
       "True"
      ]
     },
     "execution_count": 4,
     "metadata": {},
     "output_type": "execute_result"
    }
   ],
   "source": [
    "a[3]"
   ]
  },
  {
   "cell_type": "code",
   "execution_count": 5,
   "id": "e9c5cf83-2b7f-44cc-81c9-ac945bc4cbe3",
   "metadata": {},
   "outputs": [
    {
     "data": {
      "text/plain": [
       "[78, 'Aamir', 48.9009]"
      ]
     },
     "execution_count": 5,
     "metadata": {},
     "output_type": "execute_result"
    }
   ],
   "source": [
    "a[2::2]"
   ]
  },
  {
   "cell_type": "code",
   "execution_count": 6,
   "id": "668647ef-9e71-4e85-b549-cc0760d0d84d",
   "metadata": {},
   "outputs": [
    {
     "ename": "IndexError",
     "evalue": "list index out of range",
     "output_type": "error",
     "traceback": [
      "\u001b[0;31m---------------------------------------------------------------------------\u001b[0m",
      "\u001b[0;31mIndexError\u001b[0m                                Traceback (most recent call last)",
      "Cell \u001b[0;32mIn[6], line 1\u001b[0m\n\u001b[0;32m----> 1\u001b[0m \u001b[43ma\u001b[49m\u001b[43m[\u001b[49m\u001b[38;5;241;43m90\u001b[39;49m\u001b[43m]\u001b[49m\n",
      "\u001b[0;31mIndexError\u001b[0m: list index out of range"
     ]
    }
   ],
   "source": [
    "a[90]"
   ]
  },
  {
   "cell_type": "code",
   "execution_count": 7,
   "id": "9b70ee29-dfb8-4820-891a-d3398a6020ea",
   "metadata": {},
   "outputs": [
    {
     "data": {
      "text/plain": [
       "[1, 345, 78, True, 'Aamir', (5+7j), 48.9009]"
      ]
     },
     "execution_count": 7,
     "metadata": {},
     "output_type": "execute_result"
    }
   ],
   "source": [
    "a"
   ]
  },
  {
   "cell_type": "code",
   "execution_count": 8,
   "id": "0cfda4ea-6ce1-45d0-80a6-5bc45d37c236",
   "metadata": {},
   "outputs": [
    {
     "data": {
      "text/plain": [
       "[1, 345, 78]"
      ]
     },
     "execution_count": 8,
     "metadata": {},
     "output_type": "execute_result"
    }
   ],
   "source": [
    "a[0:3]"
   ]
  },
  {
   "cell_type": "code",
   "execution_count": 9,
   "id": "57782427-1ddf-4116-b89f-df5140b88da9",
   "metadata": {},
   "outputs": [
    {
     "data": {
      "text/plain": [
       "[48.9009, (5+7j), 'Aamir', True, 78, 345, 1]"
      ]
     },
     "execution_count": 9,
     "metadata": {},
     "output_type": "execute_result"
    }
   ],
   "source": [
    "a[::-1]"
   ]
  },
  {
   "cell_type": "code",
   "execution_count": 10,
   "id": "a12159ee-fd25-41c3-b534-60e5e895879c",
   "metadata": {},
   "outputs": [
    {
     "data": {
      "text/plain": [
       "[1, 78, 'Aamir', 48.9009]"
      ]
     },
     "execution_count": 10,
     "metadata": {},
     "output_type": "execute_result"
    }
   ],
   "source": [
    "a[::2]"
   ]
  },
  {
   "cell_type": "code",
   "execution_count": 11,
   "id": "de33174b-e20b-42da-a974-24b9997b5fba",
   "metadata": {},
   "outputs": [
    {
     "ename": "TypeError",
     "evalue": "unsupported operand type(s) for +: 'int' and 'str'",
     "output_type": "error",
     "traceback": [
      "\u001b[0;31m---------------------------------------------------------------------------\u001b[0m",
      "\u001b[0;31mTypeError\u001b[0m                                 Traceback (most recent call last)",
      "Cell \u001b[0;32mIn[11], line 2\u001b[0m\n\u001b[1;32m      1\u001b[0m s \u001b[38;5;241m=\u001b[39m \u001b[38;5;124m\"\u001b[39m\u001b[38;5;124mpwskills\u001b[39m\u001b[38;5;124m\"\u001b[39m\n\u001b[0;32m----> 2\u001b[0m \u001b[38;5;241;43m1\u001b[39;49m\u001b[43m \u001b[49m\u001b[38;5;241;43m+\u001b[39;49m\u001b[43m \u001b[49m\u001b[43ms\u001b[49m\n",
      "\u001b[0;31mTypeError\u001b[0m: unsupported operand type(s) for +: 'int' and 'str'"
     ]
    }
   ],
   "source": [
    "s = \"pwskills\"\n",
    "1 + s"
   ]
  },
  {
   "cell_type": "code",
   "execution_count": 12,
   "id": "bd2f9f59-86fd-4c2c-8977-8c71230054b2",
   "metadata": {},
   "outputs": [
    {
     "data": {
      "text/plain": [
       "['p', 'w', 's', 'k', 'i', 'l', 'l', 's']"
      ]
     },
     "execution_count": 12,
     "metadata": {},
     "output_type": "execute_result"
    }
   ],
   "source": [
    "list(s)"
   ]
  },
  {
   "cell_type": "code",
   "execution_count": 13,
   "id": "e4f29147-ae3e-4792-ab2c-e8d42adab9ec",
   "metadata": {},
   "outputs": [
    {
     "data": {
      "text/plain": [
       "['p',\n",
       " 'w',\n",
       " 's',\n",
       " 'k',\n",
       " 'i',\n",
       " 'l',\n",
       " 'l',\n",
       " 's',\n",
       " 1,\n",
       " 345,\n",
       " 78,\n",
       " True,\n",
       " 'Aamir',\n",
       " (5+7j),\n",
       " 48.9009]"
      ]
     },
     "execution_count": 13,
     "metadata": {},
     "output_type": "execute_result"
    }
   ],
   "source": [
    "list(s) + a"
   ]
  },
  {
   "cell_type": "code",
   "execution_count": 14,
   "id": "b8ba15b7-5edb-46c0-8588-291fb7599e77",
   "metadata": {},
   "outputs": [
    {
     "data": {
      "text/plain": [
       "[1, 345, 78, True, 'Aamir', (5+7j), 48.9009]"
      ]
     },
     "execution_count": 14,
     "metadata": {},
     "output_type": "execute_result"
    }
   ],
   "source": [
    "a"
   ]
  },
  {
   "cell_type": "code",
   "execution_count": 15,
   "id": "3934abd5-b9c8-4337-9f15-0e9c31a820b1",
   "metadata": {},
   "outputs": [
    {
     "data": {
      "text/plain": [
       "'Aa'"
      ]
     },
     "execution_count": 15,
     "metadata": {},
     "output_type": "execute_result"
    }
   ],
   "source": [
    "a[4][:2]"
   ]
  },
  {
   "cell_type": "code",
   "execution_count": 16,
   "id": "ffdf299a-27b9-4a62-ac51-73ee097fe1db",
   "metadata": {},
   "outputs": [
    {
     "data": {
      "text/plain": [
       "str"
      ]
     },
     "execution_count": 16,
     "metadata": {},
     "output_type": "execute_result"
    }
   ],
   "source": [
    "type(a[4])"
   ]
  },
  {
   "cell_type": "code",
   "execution_count": 17,
   "id": "bc515cdf-a386-4ad3-af4c-1838afe8b878",
   "metadata": {},
   "outputs": [
    {
     "data": {
      "text/plain": [
       "True"
      ]
     },
     "execution_count": 17,
     "metadata": {},
     "output_type": "execute_result"
    }
   ],
   "source": [
    "a[3]"
   ]
  },
  {
   "cell_type": "code",
   "execution_count": 18,
   "id": "082aba03-be75-48cc-ba9b-06ec85fd2487",
   "metadata": {},
   "outputs": [
    {
     "data": {
      "text/plain": [
       "'Tr'"
      ]
     },
     "execution_count": 18,
     "metadata": {},
     "output_type": "execute_result"
    }
   ],
   "source": [
    "str(a[3])[:2]"
   ]
  },
  {
   "cell_type": "code",
   "execution_count": 19,
   "id": "8ebf7fbb-d657-4d3a-b87c-120771db6f45",
   "metadata": {},
   "outputs": [
    {
     "ename": "TypeError",
     "evalue": "can only concatenate list (not \"int\") to list",
     "output_type": "error",
     "traceback": [
      "\u001b[0;31m---------------------------------------------------------------------------\u001b[0m",
      "\u001b[0;31mTypeError\u001b[0m                                 Traceback (most recent call last)",
      "Cell \u001b[0;32mIn[19], line 1\u001b[0m\n\u001b[0;32m----> 1\u001b[0m \u001b[43ma\u001b[49m\u001b[43m \u001b[49m\u001b[38;5;241;43m+\u001b[39;49m\u001b[43m \u001b[49m\u001b[38;5;241;43m1\u001b[39;49m\n",
      "\u001b[0;31mTypeError\u001b[0m: can only concatenate list (not \"int\") to list"
     ]
    }
   ],
   "source": [
    "a + 1"
   ]
  },
  {
   "cell_type": "code",
   "execution_count": 20,
   "id": "fe997b13-fcbf-4191-b765-50b6a6535aa3",
   "metadata": {},
   "outputs": [],
   "source": [
    "a1 = [3,4,5]"
   ]
  },
  {
   "cell_type": "code",
   "execution_count": 21,
   "id": "19a021b7-1bbd-4500-8e92-62332d38eb10",
   "metadata": {},
   "outputs": [
    {
     "data": {
      "text/plain": [
       "[1, 345, 78, True, 'Aamir', (5+7j), 48.9009, 3, 4, 5]"
      ]
     },
     "execution_count": 21,
     "metadata": {},
     "output_type": "execute_result"
    }
   ],
   "source": [
    "a + a1"
   ]
  },
  {
   "cell_type": "code",
   "execution_count": 22,
   "id": "3158a922-4103-482c-9a8d-560efcebc6d7",
   "metadata": {},
   "outputs": [
    {
     "data": {
      "text/plain": [
       "[3, 4, 5, 3, 4, 5, 3, 4, 5]"
      ]
     },
     "execution_count": 22,
     "metadata": {},
     "output_type": "execute_result"
    }
   ],
   "source": [
    "a1 * 3"
   ]
  },
  {
   "cell_type": "code",
   "execution_count": 23,
   "id": "fc0bf607-d6b8-4542-9438-c60f9544495a",
   "metadata": {},
   "outputs": [
    {
     "data": {
      "text/plain": [
       "7"
      ]
     },
     "execution_count": 23,
     "metadata": {},
     "output_type": "execute_result"
    }
   ],
   "source": [
    "len(a)"
   ]
  },
  {
   "cell_type": "code",
   "execution_count": 24,
   "id": "0a672def-9c0d-42fd-9355-5e2a3e26f905",
   "metadata": {},
   "outputs": [],
   "source": [
    "a.append(s)"
   ]
  },
  {
   "cell_type": "code",
   "execution_count": 25,
   "id": "b1098730-bad9-4382-935d-28e3358bfe0e",
   "metadata": {},
   "outputs": [
    {
     "data": {
      "text/plain": [
       "[1, 345, 78, True, 'Aamir', (5+7j), 48.9009, 'pwskills']"
      ]
     },
     "execution_count": 25,
     "metadata": {},
     "output_type": "execute_result"
    }
   ],
   "source": [
    "a"
   ]
  },
  {
   "cell_type": "code",
   "execution_count": 26,
   "id": "5c1269bc-7ab1-4941-b983-7d67b00bee5e",
   "metadata": {},
   "outputs": [
    {
     "data": {
      "text/plain": [
       "'pwskills'"
      ]
     },
     "execution_count": 26,
     "metadata": {},
     "output_type": "execute_result"
    }
   ],
   "source": [
    "s"
   ]
  },
  {
   "cell_type": "code",
   "execution_count": 27,
   "id": "ad2fcfec-8115-4de0-9a61-a3e968f7317c",
   "metadata": {},
   "outputs": [],
   "source": [
    "a.append(a1)"
   ]
  },
  {
   "cell_type": "code",
   "execution_count": 28,
   "id": "98b0e26d-3581-4962-8258-b3428e14e470",
   "metadata": {},
   "outputs": [
    {
     "data": {
      "text/plain": [
       "[1, 345, 78, True, 'Aamir', (5+7j), 48.9009, 'pwskills', [3, 4, 5]]"
      ]
     },
     "execution_count": 28,
     "metadata": {},
     "output_type": "execute_result"
    }
   ],
   "source": [
    "a"
   ]
  },
  {
   "cell_type": "code",
   "execution_count": 29,
   "id": "8ac8a16c-80dc-479c-8561-907d8cb03ece",
   "metadata": {},
   "outputs": [
    {
     "data": {
      "text/plain": [
       "9"
      ]
     },
     "execution_count": 29,
     "metadata": {},
     "output_type": "execute_result"
    }
   ],
   "source": [
    "len(a)"
   ]
  },
  {
   "cell_type": "code",
   "execution_count": 30,
   "id": "cbbc9c2a-f896-4455-ba4e-7b7837556ba8",
   "metadata": {},
   "outputs": [
    {
     "ename": "IndexError",
     "evalue": "list index out of range",
     "output_type": "error",
     "traceback": [
      "\u001b[0;31m---------------------------------------------------------------------------\u001b[0m",
      "\u001b[0;31mIndexError\u001b[0m                                Traceback (most recent call last)",
      "Cell \u001b[0;32mIn[30], line 1\u001b[0m\n\u001b[0;32m----> 1\u001b[0m \u001b[43ma\u001b[49m\u001b[43m[\u001b[49m\u001b[38;5;241;43m9\u001b[39;49m\u001b[43m]\u001b[49m[\u001b[38;5;241m1\u001b[39m]\n",
      "\u001b[0;31mIndexError\u001b[0m: list index out of range"
     ]
    }
   ],
   "source": [
    "a[9][1]"
   ]
  },
  {
   "cell_type": "code",
   "execution_count": 31,
   "id": "23ec9288-d312-4084-9b3c-2006c5256086",
   "metadata": {},
   "outputs": [
    {
     "data": {
      "text/plain": [
       "4"
      ]
     },
     "execution_count": 31,
     "metadata": {},
     "output_type": "execute_result"
    }
   ],
   "source": [
    "a[-1][1]"
   ]
  },
  {
   "cell_type": "code",
   "execution_count": 32,
   "id": "33e67f5d-2faa-4ebb-9b33-5ddd4151ed8c",
   "metadata": {},
   "outputs": [
    {
     "data": {
      "text/plain": [
       "[1, 345, 78, True, 'Aamir', (5+7j), 48.9009, 'pwskills', [3, 4, 5]]"
      ]
     },
     "execution_count": 32,
     "metadata": {},
     "output_type": "execute_result"
    }
   ],
   "source": [
    "a"
   ]
  },
  {
   "cell_type": "code",
   "execution_count": 33,
   "id": "e89b5658-d69e-4659-8cea-cff8798435c8",
   "metadata": {},
   "outputs": [
    {
     "ename": "TypeError",
     "evalue": "'int' object is not iterable",
     "output_type": "error",
     "traceback": [
      "\u001b[0;31m---------------------------------------------------------------------------\u001b[0m",
      "\u001b[0;31mTypeError\u001b[0m                                 Traceback (most recent call last)",
      "Cell \u001b[0;32mIn[33], line 1\u001b[0m\n\u001b[0;32m----> 1\u001b[0m \u001b[43ma\u001b[49m\u001b[38;5;241;43m.\u001b[39;49m\u001b[43mextend\u001b[49m\u001b[43m(\u001b[49m\u001b[38;5;241;43m4\u001b[39;49m\u001b[43m)\u001b[49m\n",
      "\u001b[0;31mTypeError\u001b[0m: 'int' object is not iterable"
     ]
    }
   ],
   "source": [
    "a.extend(4)"
   ]
  },
  {
   "cell_type": "code",
   "execution_count": 34,
   "id": "f02be7c9-3268-4f95-8bec-2195018b5b35",
   "metadata": {},
   "outputs": [],
   "source": [
    "a.extend('ali')"
   ]
  },
  {
   "cell_type": "code",
   "execution_count": 35,
   "id": "57caf1cd-52b6-425e-8cc6-533bf882b87f",
   "metadata": {},
   "outputs": [
    {
     "data": {
      "text/plain": [
       "[1,\n",
       " 345,\n",
       " 78,\n",
       " True,\n",
       " 'Aamir',\n",
       " (5+7j),\n",
       " 48.9009,\n",
       " 'pwskills',\n",
       " [3, 4, 5],\n",
       " 'a',\n",
       " 'l',\n",
       " 'i']"
      ]
     },
     "execution_count": 35,
     "metadata": {},
     "output_type": "execute_result"
    }
   ],
   "source": [
    "a"
   ]
  },
  {
   "cell_type": "code",
   "execution_count": 36,
   "id": "88c3ed73-801f-4a68-b207-eae66eb81249",
   "metadata": {},
   "outputs": [],
   "source": [
    "a.extend([7,8,9])"
   ]
  },
  {
   "cell_type": "code",
   "execution_count": 37,
   "id": "680d737d-d161-46e9-b54d-d8ba57aea67d",
   "metadata": {},
   "outputs": [
    {
     "data": {
      "text/plain": [
       "[1,\n",
       " 345,\n",
       " 78,\n",
       " True,\n",
       " 'Aamir',\n",
       " (5+7j),\n",
       " 48.9009,\n",
       " 'pwskills',\n",
       " [3, 4, 5],\n",
       " 'a',\n",
       " 'l',\n",
       " 'i',\n",
       " 7,\n",
       " 8,\n",
       " 9]"
      ]
     },
     "execution_count": 37,
     "metadata": {},
     "output_type": "execute_result"
    }
   ],
   "source": [
    "a"
   ]
  },
  {
   "cell_type": "code",
   "execution_count": 38,
   "id": "997bf28a-00d6-4043-b69f-a91bfd7a6e07",
   "metadata": {},
   "outputs": [
    {
     "data": {
      "text/plain": [
       "[3, 4, 5]"
      ]
     },
     "execution_count": 38,
     "metadata": {},
     "output_type": "execute_result"
    }
   ],
   "source": [
    "a1"
   ]
  },
  {
   "cell_type": "code",
   "execution_count": 39,
   "id": "9d624eab-9180-4617-9f68-0dd623e2b350",
   "metadata": {},
   "outputs": [],
   "source": [
    "a1.insert(1, \"aamir\")"
   ]
  },
  {
   "cell_type": "code",
   "execution_count": 40,
   "id": "55208f3f-7f88-4b7e-9bd8-db4d4e51f0cf",
   "metadata": {},
   "outputs": [
    {
     "data": {
      "text/plain": [
       "[3, 'aamir', 4, 5]"
      ]
     },
     "execution_count": 40,
     "metadata": {},
     "output_type": "execute_result"
    }
   ],
   "source": [
    "a1"
   ]
  },
  {
   "cell_type": "code",
   "execution_count": 41,
   "id": "f366614c-5c5c-4b9d-9695-01f0b0777049",
   "metadata": {},
   "outputs": [],
   "source": [
    "a1.insert(2, [44,55,66])"
   ]
  },
  {
   "cell_type": "code",
   "execution_count": 42,
   "id": "75fa5e5a-34f3-489f-9815-24fa664b73cc",
   "metadata": {},
   "outputs": [
    {
     "data": {
      "text/plain": [
       "[3, 'aamir', [44, 55, 66], 4, 5]"
      ]
     },
     "execution_count": 42,
     "metadata": {},
     "output_type": "execute_result"
    }
   ],
   "source": [
    "a1"
   ]
  },
  {
   "cell_type": "code",
   "execution_count": 43,
   "id": "1a6a1649-e373-4caf-a466-2403eb7262fd",
   "metadata": {},
   "outputs": [],
   "source": [
    "a1.insert(-1, 99)"
   ]
  },
  {
   "cell_type": "code",
   "execution_count": 44,
   "id": "ce5bb3be-e3a7-491f-9749-772a8af84949",
   "metadata": {},
   "outputs": [
    {
     "data": {
      "text/plain": [
       "[3, 'aamir', [44, 55, 66], 4, 99, 5]"
      ]
     },
     "execution_count": 44,
     "metadata": {},
     "output_type": "execute_result"
    }
   ],
   "source": [
    "a1"
   ]
  },
  {
   "cell_type": "code",
   "execution_count": 45,
   "id": "a7bc43ce-8917-4c5b-bf8b-5fc9e13cdc34",
   "metadata": {},
   "outputs": [],
   "source": [
    "a1.insert(8, 88)"
   ]
  },
  {
   "cell_type": "code",
   "execution_count": 46,
   "id": "3313e13d-6626-4c02-b348-1600cf903543",
   "metadata": {},
   "outputs": [
    {
     "data": {
      "text/plain": [
       "[3, 'aamir', [44, 55, 66], 4, 99, 5, 88]"
      ]
     },
     "execution_count": 46,
     "metadata": {},
     "output_type": "execute_result"
    }
   ],
   "source": [
    "a1"
   ]
  },
  {
   "cell_type": "code",
   "execution_count": 47,
   "id": "ba7e1351-cc10-4235-8a96-ce8436499627",
   "metadata": {},
   "outputs": [
    {
     "data": {
      "text/plain": [
       "88"
      ]
     },
     "execution_count": 47,
     "metadata": {},
     "output_type": "execute_result"
    }
   ],
   "source": [
    "a1.pop()"
   ]
  },
  {
   "cell_type": "code",
   "execution_count": 48,
   "id": "d8e6649c-a6a5-4df5-97ea-e06e2d4b8388",
   "metadata": {},
   "outputs": [
    {
     "data": {
      "text/plain": [
       "[3, 'aamir', [44, 55, 66], 4, 99, 5]"
      ]
     },
     "execution_count": 48,
     "metadata": {},
     "output_type": "execute_result"
    }
   ],
   "source": [
    "a1"
   ]
  },
  {
   "cell_type": "code",
   "execution_count": 49,
   "id": "6fc6f9cb-bbaa-4a9c-9223-7196176cc958",
   "metadata": {},
   "outputs": [
    {
     "data": {
      "text/plain": [
       "[44, 55, 66]"
      ]
     },
     "execution_count": 49,
     "metadata": {},
     "output_type": "execute_result"
    }
   ],
   "source": [
    "a1.pop(2)"
   ]
  },
  {
   "cell_type": "code",
   "execution_count": 50,
   "id": "88e8b78c-2d6e-4a51-a5cc-94bd284bf832",
   "metadata": {},
   "outputs": [
    {
     "data": {
      "text/plain": [
       "[3, 'aamir', 4, 99, 5]"
      ]
     },
     "execution_count": 50,
     "metadata": {},
     "output_type": "execute_result"
    }
   ],
   "source": [
    "a1"
   ]
  },
  {
   "cell_type": "code",
   "execution_count": 51,
   "id": "e12beba6-3d99-4829-84c0-dbb0f839205f",
   "metadata": {},
   "outputs": [],
   "source": [
    "a1.insert(1, 3)"
   ]
  },
  {
   "cell_type": "code",
   "execution_count": 52,
   "id": "0e682e4e-05e8-4afc-8861-4d5930d1b78f",
   "metadata": {},
   "outputs": [
    {
     "data": {
      "text/plain": [
       "[3, 3, 'aamir', 4, 99, 5]"
      ]
     },
     "execution_count": 52,
     "metadata": {},
     "output_type": "execute_result"
    }
   ],
   "source": [
    "a1"
   ]
  },
  {
   "cell_type": "code",
   "execution_count": 53,
   "id": "ac713094-f271-41cd-85b7-db044472f2f9",
   "metadata": {},
   "outputs": [],
   "source": [
    "a1.remove(3)"
   ]
  },
  {
   "cell_type": "code",
   "execution_count": 54,
   "id": "fcd49b65-1f98-486e-a3de-f3ac9182a423",
   "metadata": {},
   "outputs": [
    {
     "data": {
      "text/plain": [
       "[3, 'aamir', 4, 99, 5]"
      ]
     },
     "execution_count": 54,
     "metadata": {},
     "output_type": "execute_result"
    }
   ],
   "source": [
    "a1"
   ]
  },
  {
   "cell_type": "code",
   "execution_count": 55,
   "id": "082274a4-0a97-40b4-85ae-ef36073b643b",
   "metadata": {},
   "outputs": [
    {
     "ename": "NameError",
     "evalue": "name 'djf' is not defined",
     "output_type": "error",
     "traceback": [
      "\u001b[0;31m---------------------------------------------------------------------------\u001b[0m",
      "\u001b[0;31mNameError\u001b[0m                                 Traceback (most recent call last)",
      "Cell \u001b[0;32mIn[55], line 1\u001b[0m\n\u001b[0;32m----> 1\u001b[0m a1\u001b[38;5;241m.\u001b[39mremove(\u001b[43mdjf\u001b[49m)\n",
      "\u001b[0;31mNameError\u001b[0m: name 'djf' is not defined"
     ]
    }
   ],
   "source": [
    "a1.remove(djf)"
   ]
  },
  {
   "cell_type": "code",
   "execution_count": 56,
   "id": "ae9797f5-c2a7-45e8-8e60-e36c6c9034a9",
   "metadata": {},
   "outputs": [
    {
     "data": {
      "text/plain": [
       "[3, 'aamir', 4, 99, 5]"
      ]
     },
     "execution_count": 56,
     "metadata": {},
     "output_type": "execute_result"
    }
   ],
   "source": [
    "a1"
   ]
  },
  {
   "cell_type": "code",
   "execution_count": 57,
   "id": "73b9ba81-5789-43ea-9600-86e67bf1bae9",
   "metadata": {},
   "outputs": [
    {
     "ename": "AttributeError",
     "evalue": "'int' object has no attribute 'remove'",
     "output_type": "error",
     "traceback": [
      "\u001b[0;31m---------------------------------------------------------------------------\u001b[0m",
      "\u001b[0;31mAttributeError\u001b[0m                            Traceback (most recent call last)",
      "Cell \u001b[0;32mIn[57], line 1\u001b[0m\n\u001b[0;32m----> 1\u001b[0m \u001b[43ma1\u001b[49m\u001b[43m[\u001b[49m\u001b[38;5;241;43m2\u001b[39;49m\u001b[43m]\u001b[49m\u001b[38;5;241;43m.\u001b[39;49m\u001b[43mremove\u001b[49m(\u001b[38;5;241m55\u001b[39m)\n",
      "\u001b[0;31mAttributeError\u001b[0m: 'int' object has no attribute 'remove'"
     ]
    }
   ],
   "source": [
    "a1[2].remove(55)"
   ]
  },
  {
   "cell_type": "code",
   "execution_count": 58,
   "id": "a79b2755-6490-4750-8f1b-5c46cf15678b",
   "metadata": {},
   "outputs": [
    {
     "data": {
      "text/plain": [
       "[3, 'aamir', 4, 99, 5]"
      ]
     },
     "execution_count": 58,
     "metadata": {},
     "output_type": "execute_result"
    }
   ],
   "source": [
    "a1"
   ]
  },
  {
   "cell_type": "code",
   "execution_count": 59,
   "id": "16da48af-d068-4821-9f07-413a0289a1ba",
   "metadata": {},
   "outputs": [],
   "source": [
    "# a1[1].remove('aa')  we can't remove aa as it is in string and string is immutable."
   ]
  },
  {
   "cell_type": "code",
   "execution_count": 60,
   "id": "5f83d4cb-7aa0-4e3d-87ad-d4ef2accc735",
   "metadata": {},
   "outputs": [],
   "source": [
    "a1.insert(3, 4)"
   ]
  },
  {
   "cell_type": "code",
   "execution_count": 61,
   "id": "19a5e149-6740-4ad3-b075-946354375ad5",
   "metadata": {},
   "outputs": [
    {
     "data": {
      "text/plain": [
       "[3, 'aamir', 4, 4, 99, 5]"
      ]
     },
     "execution_count": 61,
     "metadata": {},
     "output_type": "execute_result"
    }
   ],
   "source": [
    "a1"
   ]
  },
  {
   "cell_type": "code",
   "execution_count": 62,
   "id": "a09b57f7-4480-4d7c-9e0e-58b0b29074c8",
   "metadata": {},
   "outputs": [],
   "source": [
    "# also if we want to remove both the 4, we can't as .remove() it removes the first occurrence "
   ]
  },
  {
   "cell_type": "code",
   "execution_count": 63,
   "id": "df133aac-8a36-4c51-be0f-52a3e3c46ec3",
   "metadata": {},
   "outputs": [],
   "source": [
    "a1.reverse()    #this is permanent reverse"
   ]
  },
  {
   "cell_type": "code",
   "execution_count": 64,
   "id": "2bcd4c74-bdde-43fa-b9ad-54eca08eac16",
   "metadata": {},
   "outputs": [
    {
     "data": {
      "text/plain": [
       "[5, 99, 4, 4, 'aamir', 3]"
      ]
     },
     "execution_count": 64,
     "metadata": {},
     "output_type": "execute_result"
    }
   ],
   "source": [
    "a1"
   ]
  },
  {
   "cell_type": "code",
   "execution_count": 65,
   "id": "9e258541-a9da-4db9-95db-b44af1443a5c",
   "metadata": {},
   "outputs": [],
   "source": [
    "# so now if i want to print the a1 now it will be reversed"
   ]
  },
  {
   "cell_type": "code",
   "execution_count": 66,
   "id": "38efbfc2-3592-4b21-a8de-46954adb1638",
   "metadata": {},
   "outputs": [
    {
     "data": {
      "text/plain": [
       "[5, 99, 4, 4, 'aamir', 3]"
      ]
     },
     "execution_count": 66,
     "metadata": {},
     "output_type": "execute_result"
    }
   ],
   "source": [
    "a1"
   ]
  },
  {
   "cell_type": "code",
   "execution_count": 67,
   "id": "6d1e06fa-b83a-485c-8bd1-d4c2a4d7e9d5",
   "metadata": {},
   "outputs": [
    {
     "ename": "TypeError",
     "evalue": "'<' not supported between instances of 'str' and 'int'",
     "output_type": "error",
     "traceback": [
      "\u001b[0;31m---------------------------------------------------------------------------\u001b[0m",
      "\u001b[0;31mTypeError\u001b[0m                                 Traceback (most recent call last)",
      "Cell \u001b[0;32mIn[67], line 1\u001b[0m\n\u001b[0;32m----> 1\u001b[0m \u001b[43ma1\u001b[49m\u001b[38;5;241;43m.\u001b[39;49m\u001b[43msort\u001b[49m\u001b[43m(\u001b[49m\u001b[43m)\u001b[49m\n",
      "\u001b[0;31mTypeError\u001b[0m: '<' not supported between instances of 'str' and 'int'"
     ]
    }
   ],
   "source": [
    "a1.sort()"
   ]
  },
  {
   "cell_type": "code",
   "execution_count": 68,
   "id": "c889fafa-fd1b-44bf-b8f3-78adcdbdc88d",
   "metadata": {},
   "outputs": [],
   "source": [
    "a2 = [3,5,6,4,7,8,0,9,1]"
   ]
  },
  {
   "cell_type": "code",
   "execution_count": 69,
   "id": "1e426345-d19a-4fc4-a63c-c65ccc6d12a0",
   "metadata": {},
   "outputs": [],
   "source": [
    "a2.sort()"
   ]
  },
  {
   "cell_type": "code",
   "execution_count": 70,
   "id": "b12810cc-e005-4655-a494-32e62f1c6e42",
   "metadata": {},
   "outputs": [
    {
     "data": {
      "text/plain": [
       "[0, 1, 3, 4, 5, 6, 7, 8, 9]"
      ]
     },
     "execution_count": 70,
     "metadata": {},
     "output_type": "execute_result"
    }
   ],
   "source": [
    "a2"
   ]
  },
  {
   "cell_type": "code",
   "execution_count": 71,
   "id": "c0b1fa3d-52b5-401f-948a-8c206e2d7120",
   "metadata": {},
   "outputs": [],
   "source": [
    "a3 = [34, \"aamir\", 45, 67, \"ali\"]"
   ]
  },
  {
   "cell_type": "code",
   "execution_count": 72,
   "id": "0246a0d2-a1ee-4936-9614-dac836c97bb7",
   "metadata": {},
   "outputs": [
    {
     "ename": "TypeError",
     "evalue": "'<' not supported between instances of 'str' and 'int'",
     "output_type": "error",
     "traceback": [
      "\u001b[0;31m---------------------------------------------------------------------------\u001b[0m",
      "\u001b[0;31mTypeError\u001b[0m                                 Traceback (most recent call last)",
      "Cell \u001b[0;32mIn[72], line 1\u001b[0m\n\u001b[0;32m----> 1\u001b[0m \u001b[43ma3\u001b[49m\u001b[38;5;241;43m.\u001b[39;49m\u001b[43msort\u001b[49m\u001b[43m(\u001b[49m\u001b[43m)\u001b[49m\n",
      "\u001b[0;31mTypeError\u001b[0m: '<' not supported between instances of 'str' and 'int'"
     ]
    }
   ],
   "source": [
    "a3.sort()"
   ]
  },
  {
   "cell_type": "code",
   "execution_count": 73,
   "id": "2cc10029-633a-484b-885b-bd4f7f8501d6",
   "metadata": {},
   "outputs": [],
   "source": [
    "a4 = [\"amir\", \"irfan\", \"sohail\", \"khan\", \"ali\", \"intelligent\"]"
   ]
  },
  {
   "cell_type": "code",
   "execution_count": 74,
   "id": "1a6b5f7b-08ad-42e5-8bbe-36603ccd8d68",
   "metadata": {},
   "outputs": [],
   "source": [
    "a4.sort()"
   ]
  },
  {
   "cell_type": "code",
   "execution_count": 75,
   "id": "38ca27f3-e1bc-4a82-8d1d-e5cefae58997",
   "metadata": {},
   "outputs": [
    {
     "data": {
      "text/plain": [
       "['ali', 'amir', 'intelligent', 'irfan', 'khan', 'sohail']"
      ]
     },
     "execution_count": 75,
     "metadata": {},
     "output_type": "execute_result"
    }
   ],
   "source": [
    "a4"
   ]
  },
  {
   "cell_type": "code",
   "execution_count": 76,
   "id": "90f92b63-b5a2-4cef-88cc-24c87f749f83",
   "metadata": {},
   "outputs": [],
   "source": [
    "a4.sort(reverse = True)"
   ]
  },
  {
   "cell_type": "code",
   "execution_count": 77,
   "id": "8a498f6d-0081-42b1-8540-a38324145e28",
   "metadata": {},
   "outputs": [
    {
     "data": {
      "text/plain": [
       "['sohail', 'khan', 'irfan', 'intelligent', 'amir', 'ali']"
      ]
     },
     "execution_count": 77,
     "metadata": {},
     "output_type": "execute_result"
    }
   ],
   "source": [
    "a4"
   ]
  },
  {
   "cell_type": "code",
   "execution_count": 78,
   "id": "3718d78a-8233-44a8-b914-4c956d97ed5c",
   "metadata": {},
   "outputs": [
    {
     "data": {
      "text/plain": [
       "0"
      ]
     },
     "execution_count": 78,
     "metadata": {},
     "output_type": "execute_result"
    }
   ],
   "source": [
    "a4.index(\"sohail\")"
   ]
  },
  {
   "cell_type": "code",
   "execution_count": 79,
   "id": "a3f80f54-f9e8-405f-84fb-85df32c88bb7",
   "metadata": {},
   "outputs": [
    {
     "data": {
      "text/plain": [
       "1"
      ]
     },
     "execution_count": 79,
     "metadata": {},
     "output_type": "execute_result"
    }
   ],
   "source": [
    "a4.count(\"sohail\")"
   ]
  },
  {
   "cell_type": "code",
   "execution_count": 80,
   "id": "7cbe6385-0d74-45a9-8ece-19f50647cd37",
   "metadata": {},
   "outputs": [],
   "source": [
    "aa = \"aamir\""
   ]
  },
  {
   "cell_type": "code",
   "execution_count": 81,
   "id": "895a139b-a43a-4485-8655-b867548789f3",
   "metadata": {},
   "outputs": [],
   "source": [
    "a5 = [3,4,5,6]"
   ]
  },
  {
   "cell_type": "code",
   "execution_count": 82,
   "id": "bc4e9d37-2f47-4013-9299-b46eb690d060",
   "metadata": {},
   "outputs": [
    {
     "data": {
      "text/plain": [
       "'a'"
      ]
     },
     "execution_count": 82,
     "metadata": {},
     "output_type": "execute_result"
    }
   ],
   "source": [
    "aa[0]"
   ]
  },
  {
   "cell_type": "code",
   "execution_count": 83,
   "id": "fd8c0e9a-fb79-4cf1-94ff-82cc50cd472f",
   "metadata": {},
   "outputs": [
    {
     "ename": "TypeError",
     "evalue": "'str' object does not support item assignment",
     "output_type": "error",
     "traceback": [
      "\u001b[0;31m---------------------------------------------------------------------------\u001b[0m",
      "\u001b[0;31mTypeError\u001b[0m                                 Traceback (most recent call last)",
      "Cell \u001b[0;32mIn[83], line 1\u001b[0m\n\u001b[0;32m----> 1\u001b[0m \u001b[43maa\u001b[49m\u001b[43m[\u001b[49m\u001b[38;5;241;43m0\u001b[39;49m\u001b[43m]\u001b[49m \u001b[38;5;241m=\u001b[39m \u001b[38;5;124m'\u001b[39m\u001b[38;5;124mb\u001b[39m\u001b[38;5;124m'\u001b[39m\n",
      "\u001b[0;31mTypeError\u001b[0m: 'str' object does not support item assignment"
     ]
    }
   ],
   "source": [
    "aa[0] = 'b'"
   ]
  },
  {
   "cell_type": "code",
   "execution_count": 84,
   "id": "f72e87b8-ccf8-4eb8-84c9-9600218e62d9",
   "metadata": {},
   "outputs": [],
   "source": [
    "a5[0] = 30"
   ]
  },
  {
   "cell_type": "code",
   "execution_count": 85,
   "id": "c089eb1e-61cb-495f-a6c1-94915bfc358c",
   "metadata": {},
   "outputs": [
    {
     "data": {
      "text/plain": [
       "[30, 4, 5, 6]"
      ]
     },
     "execution_count": 85,
     "metadata": {},
     "output_type": "execute_result"
    }
   ],
   "source": [
    "a5"
   ]
  },
  {
   "cell_type": "code",
   "execution_count": null,
   "id": "417d1e4e-c5e8-41f8-ad84-e450fbb599b2",
   "metadata": {},
   "outputs": [],
   "source": []
  },
  {
   "cell_type": "code",
   "execution_count": null,
   "id": "ccd740c9-9a75-453d-98bf-20917cfaf92a",
   "metadata": {},
   "outputs": [],
   "source": []
  },
  {
   "cell_type": "code",
   "execution_count": null,
   "id": "e78179e9-0db2-4991-9d6a-784d1c5996e8",
   "metadata": {},
   "outputs": [],
   "source": []
  },
  {
   "cell_type": "code",
   "execution_count": 86,
   "id": "c1c82ef2-e6c4-4b86-bc0d-e59945155572",
   "metadata": {},
   "outputs": [],
   "source": [
    "adf = aa.replace(\"a\", \"b\")"
   ]
  },
  {
   "cell_type": "code",
   "execution_count": 87,
   "id": "6d3f7f97-cd6e-44aa-a038-451e0b31de50",
   "metadata": {},
   "outputs": [
    {
     "data": {
      "text/plain": [
       "'bbmir'"
      ]
     },
     "execution_count": 87,
     "metadata": {},
     "output_type": "execute_result"
    }
   ],
   "source": [
    "adf"
   ]
  },
  {
   "cell_type": "code",
   "execution_count": 88,
   "id": "e39ebbae-9680-4136-826a-8623ef8db6c6",
   "metadata": {},
   "outputs": [
    {
     "data": {
      "text/plain": [
       "'aamir'"
      ]
     },
     "execution_count": 88,
     "metadata": {},
     "output_type": "execute_result"
    }
   ],
   "source": [
    "aa"
   ]
  },
  {
   "cell_type": "code",
   "execution_count": 89,
   "id": "8a809c8a-6ab6-4440-9f25-84f05047fbd4",
   "metadata": {},
   "outputs": [
    {
     "data": {
      "text/plain": [
       "'bbmir'"
      ]
     },
     "execution_count": 89,
     "metadata": {},
     "output_type": "execute_result"
    }
   ],
   "source": [
    "adf"
   ]
  },
  {
   "cell_type": "raw",
   "id": "c6544c23-8772-448d-92dd-0bd898bacf3a",
   "metadata": {},
   "source": [
    "#Tupples"
   ]
  },
  {
   "cell_type": "code",
   "execution_count": 90,
   "id": "4f408f3e-ef8e-4ffd-8721-5c54b82464a8",
   "metadata": {},
   "outputs": [],
   "source": [
    "t = (2, 3, 4, 5, \"aamir\", 45.56, False, 45+457j, [3,4,5]) "
   ]
  },
  {
   "cell_type": "code",
   "execution_count": 91,
   "id": "11b77c24-306b-44e9-98d2-474db607e4e7",
   "metadata": {},
   "outputs": [
    {
     "data": {
      "text/plain": [
       "tuple"
      ]
     },
     "execution_count": 91,
     "metadata": {},
     "output_type": "execute_result"
    }
   ],
   "source": [
    "type(t)"
   ]
  },
  {
   "cell_type": "code",
   "execution_count": 92,
   "id": "cd6a06e7-c6f8-43bb-a0ad-9619f66702cb",
   "metadata": {},
   "outputs": [
    {
     "data": {
      "text/plain": [
       "2"
      ]
     },
     "execution_count": 92,
     "metadata": {},
     "output_type": "execute_result"
    }
   ],
   "source": [
    "t[0]"
   ]
  },
  {
   "cell_type": "code",
   "execution_count": 93,
   "id": "83bca7ca-502d-4178-a662-569fb1d93839",
   "metadata": {},
   "outputs": [
    {
     "data": {
      "text/plain": [
       "[3, 4, 5]"
      ]
     },
     "execution_count": 93,
     "metadata": {},
     "output_type": "execute_result"
    }
   ],
   "source": [
    "t[-1]"
   ]
  },
  {
   "cell_type": "code",
   "execution_count": 94,
   "id": "747fa856-3124-4c05-ba99-76ea2a143fa1",
   "metadata": {},
   "outputs": [
    {
     "data": {
      "text/plain": [
       "([3, 4, 5], (45+457j), False, 45.56, 'aamir', 5, 4, 3, 2)"
      ]
     },
     "execution_count": 94,
     "metadata": {},
     "output_type": "execute_result"
    }
   ],
   "source": [
    "t[::-1]"
   ]
  },
  {
   "cell_type": "code",
   "execution_count": 95,
   "id": "6c9cf8f3-809e-405c-9011-dea86282269d",
   "metadata": {},
   "outputs": [
    {
     "data": {
      "text/plain": [
       "['sohail', 'khan', 'irfan', 'intelligent', 'amir', 'ali']"
      ]
     },
     "execution_count": 95,
     "metadata": {},
     "output_type": "execute_result"
    }
   ],
   "source": [
    "a4"
   ]
  },
  {
   "cell_type": "code",
   "execution_count": 96,
   "id": "51e9deff-ca9d-4562-b31f-32f4518b22f9",
   "metadata": {},
   "outputs": [],
   "source": [
    "a4[0] = \"sohail king\""
   ]
  },
  {
   "cell_type": "code",
   "execution_count": 97,
   "id": "8583f34d-3a8f-41ac-a4c9-9a45eb5aed79",
   "metadata": {},
   "outputs": [
    {
     "data": {
      "text/plain": [
       "['sohail king', 'khan', 'irfan', 'intelligent', 'amir', 'ali']"
      ]
     },
     "execution_count": 97,
     "metadata": {},
     "output_type": "execute_result"
    }
   ],
   "source": [
    "a4"
   ]
  },
  {
   "cell_type": "code",
   "execution_count": 98,
   "id": "8967e490-7786-4fce-a7d7-5fd8a26509db",
   "metadata": {},
   "outputs": [
    {
     "data": {
      "text/plain": [
       "2"
      ]
     },
     "execution_count": 98,
     "metadata": {},
     "output_type": "execute_result"
    }
   ],
   "source": [
    "t[0]"
   ]
  },
  {
   "cell_type": "code",
   "execution_count": 99,
   "id": "7ac8864b-a3b6-43fd-a62d-0c910029905b",
   "metadata": {},
   "outputs": [
    {
     "ename": "TypeError",
     "evalue": "'tuple' object does not support item assignment",
     "output_type": "error",
     "traceback": [
      "\u001b[0;31m---------------------------------------------------------------------------\u001b[0m",
      "\u001b[0;31mTypeError\u001b[0m                                 Traceback (most recent call last)",
      "Cell \u001b[0;32mIn[99], line 1\u001b[0m\n\u001b[0;32m----> 1\u001b[0m \u001b[43mt\u001b[49m\u001b[43m[\u001b[49m\u001b[38;5;241;43m0\u001b[39;49m\u001b[43m]\u001b[49m \u001b[38;5;241m=\u001b[39m \u001b[38;5;241m99\u001b[39m\n",
      "\u001b[0;31mTypeError\u001b[0m: 'tuple' object does not support item assignment"
     ]
    }
   ],
   "source": [
    "t[0] = 99"
   ]
  },
  {
   "cell_type": "code",
   "execution_count": 100,
   "id": "7fe8834a-68b7-4e75-8fbb-5c78db362101",
   "metadata": {},
   "outputs": [
    {
     "data": {
      "text/plain": [
       "1"
      ]
     },
     "execution_count": 100,
     "metadata": {},
     "output_type": "execute_result"
    }
   ],
   "source": [
    "t.count(2)"
   ]
  },
  {
   "cell_type": "code",
   "execution_count": 101,
   "id": "dc90dccb-364f-4dad-968c-4c79573cd1e4",
   "metadata": {},
   "outputs": [
    {
     "data": {
      "text/plain": [
       "6"
      ]
     },
     "execution_count": 101,
     "metadata": {},
     "output_type": "execute_result"
    }
   ],
   "source": [
    "t.index(False)"
   ]
  },
  {
   "cell_type": "code",
   "execution_count": 102,
   "id": "1fb869f6-9c0b-429d-b21f-d2c1a32c934c",
   "metadata": {},
   "outputs": [],
   "source": [
    "s1 = {}"
   ]
  },
  {
   "cell_type": "code",
   "execution_count": 103,
   "id": "c575f5b9-430d-4dfc-bc5d-413e227928a0",
   "metadata": {},
   "outputs": [
    {
     "data": {
      "text/plain": [
       "dict"
      ]
     },
     "execution_count": 103,
     "metadata": {},
     "output_type": "execute_result"
    }
   ],
   "source": [
    "type(s1)"
   ]
  },
  {
   "cell_type": "code",
   "execution_count": 104,
   "id": "eefe2b07-de48-4674-8505-15f80d0076d0",
   "metadata": {},
   "outputs": [],
   "source": [
    "s2 = {2,3,4,55,6}"
   ]
  },
  {
   "cell_type": "code",
   "execution_count": 105,
   "id": "fd5299a4-e5a0-4876-95c3-6b93367a31b5",
   "metadata": {},
   "outputs": [
    {
     "data": {
      "text/plain": [
       "set"
      ]
     },
     "execution_count": 105,
     "metadata": {},
     "output_type": "execute_result"
    }
   ],
   "source": [
    "type(s2)"
   ]
  },
  {
   "cell_type": "code",
   "execution_count": 106,
   "id": "7b0b44ba-3f88-4aa4-8c2d-05f522197291",
   "metadata": {},
   "outputs": [
    {
     "ename": "TypeError",
     "evalue": "unhashable type: 'list'",
     "output_type": "error",
     "traceback": [
      "\u001b[0;31m---------------------------------------------------------------------------\u001b[0m",
      "\u001b[0;31mTypeError\u001b[0m                                 Traceback (most recent call last)",
      "Cell \u001b[0;32mIn[106], line 1\u001b[0m\n\u001b[0;32m----> 1\u001b[0m s3 \u001b[38;5;241m=\u001b[39m {\u001b[38;5;241m324\u001b[39m, \u001b[38;5;241m456\u001b[39m, \u001b[38;5;241m654\u001b[39m, \u001b[38;5;124m\"\u001b[39m\u001b[38;5;124maamir\u001b[39m\u001b[38;5;124m\"\u001b[39m, \u001b[38;5;241m45\u001b[39m\u001b[38;5;241m+\u001b[39m\u001b[38;5;241m45\u001b[39mj, \u001b[38;5;241m34.465\u001b[39m, [\u001b[38;5;241m1\u001b[39m,\u001b[38;5;241m2\u001b[39m,\u001b[38;5;241m3\u001b[39m]}\n",
      "\u001b[0;31mTypeError\u001b[0m: unhashable type: 'list'"
     ]
    }
   ],
   "source": [
    "s3 = {324, 456, 654, \"aamir\", 45+45j, 34.465, [1,2,3]}"
   ]
  },
  {
   "cell_type": "code",
   "execution_count": 107,
   "id": "8d0dfa86-a765-4eb3-a037-be8284562e8e",
   "metadata": {},
   "outputs": [],
   "source": [
    "s3 = {324, 456, 654, \"aamir\", 45+45j, 34.465, (3,4,5)}"
   ]
  },
  {
   "cell_type": "code",
   "execution_count": 108,
   "id": "c4d6b474-80ab-4ed5-817c-93c18169022e",
   "metadata": {},
   "outputs": [
    {
     "data": {
      "text/plain": [
       "{(3, 4, 5), (45+45j), 324, 34.465, 456, 654, 'aamir'}"
      ]
     },
     "execution_count": 108,
     "metadata": {},
     "output_type": "execute_result"
    }
   ],
   "source": [
    "s3"
   ]
  },
  {
   "cell_type": "code",
   "execution_count": 111,
   "id": "f2a27b43-d115-4d83-96df-d35b5079cc2c",
   "metadata": {},
   "outputs": [],
   "source": [
    "s4 = {2,3,4,5,6,2,3,8,9,4,7,9,4,9,2,8,4,0,2,0,9,3,4,7,2,0, \"aamir\", \"Aamir\"}"
   ]
  },
  {
   "cell_type": "code",
   "execution_count": 112,
   "id": "44755d8a-959e-4227-b166-5c7dde2ce201",
   "metadata": {},
   "outputs": [
    {
     "data": {
      "text/plain": [
       "{0, 2, 3, 4, 5, 6, 7, 8, 9, 'Aamir', 'aamir'}"
      ]
     },
     "execution_count": 112,
     "metadata": {},
     "output_type": "execute_result"
    }
   ],
   "source": [
    "s4"
   ]
  },
  {
   "cell_type": "code",
   "execution_count": null,
   "id": "714d57ca-0967-46e7-94dd-d95d4556fac4",
   "metadata": {},
   "outputs": [],
   "source": []
  },
  {
   "cell_type": "code",
   "execution_count": 113,
   "id": "a9f663ff-6d19-47ed-8343-68ef90a58556",
   "metadata": {},
   "outputs": [],
   "source": [
    "a6 = [2,3,4,5,6,2,3,8,9,4,7,9,4,9,2,8,4,0,2,0,9,3,4,7,2,0, \"aamir\", \"Aamir\"]"
   ]
  },
  {
   "cell_type": "code",
   "execution_count": 115,
   "id": "7c60229e",
   "metadata": {},
   "outputs": [],
   "source": [
    "a6 = set(a6)"
   ]
  },
  {
   "cell_type": "code",
   "execution_count": 116,
   "id": "adc10c42",
   "metadata": {},
   "outputs": [
    {
     "data": {
      "text/plain": [
       "{0, 2, 3, 4, 5, 6, 7, 8, 9, 'Aamir', 'aamir'}"
      ]
     },
     "execution_count": 116,
     "metadata": {},
     "output_type": "execute_result"
    }
   ],
   "source": [
    "a6"
   ]
  },
  {
   "cell_type": "code",
   "execution_count": 117,
   "id": "a9b9fe04",
   "metadata": {},
   "outputs": [
    {
     "data": {
      "text/plain": [
       "[0, 2, 3, 4, 5, 6, 7, 8, 9, 'Aamir', 'aamir']"
      ]
     },
     "execution_count": 117,
     "metadata": {},
     "output_type": "execute_result"
    }
   ],
   "source": [
    "list(a6)"
   ]
  },
  {
   "cell_type": "code",
   "execution_count": 118,
   "id": "40b07f6a",
   "metadata": {},
   "outputs": [],
   "source": [
    "s5 = {234, 45, 23, 12, 567, 45, 2, 789, 234, \"abc\", 456, 342, 23}"
   ]
  },
  {
   "cell_type": "code",
   "execution_count": 119,
   "id": "3d4db106",
   "metadata": {},
   "outputs": [
    {
     "data": {
      "text/plain": [
       "{12, 2, 23, 234, 342, 45, 456, 567, 789, 'abc'}"
      ]
     },
     "execution_count": 119,
     "metadata": {},
     "output_type": "execute_result"
    }
   ],
   "source": [
    "s5"
   ]
  },
  {
   "cell_type": "code",
   "execution_count": 120,
   "id": "690ff63b",
   "metadata": {},
   "outputs": [
    {
     "ename": "TypeError",
     "evalue": "'set' object is not subscriptable",
     "output_type": "error",
     "traceback": [
      "\u001b[0;31m---------------------------------------------------------------------------\u001b[0m",
      "\u001b[0;31mTypeError\u001b[0m                                 Traceback (most recent call last)",
      "Cell \u001b[0;32mIn[120], line 1\u001b[0m\n\u001b[0;32m----> 1\u001b[0m \u001b[43ms5\u001b[49m\u001b[43m[\u001b[49m\u001b[38;5;241;43m0\u001b[39;49m\u001b[43m]\u001b[49m\n",
      "\u001b[0;31mTypeError\u001b[0m: 'set' object is not subscriptable"
     ]
    }
   ],
   "source": [
    "s5[0]"
   ]
  },
  {
   "cell_type": "code",
   "execution_count": 121,
   "id": "bfd55333",
   "metadata": {},
   "outputs": [
    {
     "ename": "TypeError",
     "evalue": "'set' object is not subscriptable",
     "output_type": "error",
     "traceback": [
      "\u001b[0;31m---------------------------------------------------------------------------\u001b[0m",
      "\u001b[0;31mTypeError\u001b[0m                                 Traceback (most recent call last)",
      "Cell \u001b[0;32mIn[121], line 1\u001b[0m\n\u001b[0;32m----> 1\u001b[0m \u001b[43ms5\u001b[49m\u001b[43m[\u001b[49m\u001b[43m:\u001b[49m\u001b[43m:\u001b[49m\u001b[38;5;241;43m-\u001b[39;49m\u001b[38;5;241;43m1\u001b[39;49m\u001b[43m]\u001b[49m\n",
      "\u001b[0;31mTypeError\u001b[0m: 'set' object is not subscriptable"
     ]
    }
   ],
   "source": [
    "s5[::-1]"
   ]
  },
  {
   "cell_type": "code",
   "execution_count": 122,
   "id": "1b340204",
   "metadata": {},
   "outputs": [],
   "source": [
    "s5.add(3)"
   ]
  },
  {
   "cell_type": "code",
   "execution_count": 123,
   "id": "26c8a8d7",
   "metadata": {},
   "outputs": [
    {
     "data": {
      "text/plain": [
       "{12, 2, 23, 234, 3, 342, 45, 456, 567, 789, 'abc'}"
      ]
     },
     "execution_count": 123,
     "metadata": {},
     "output_type": "execute_result"
    }
   ],
   "source": [
    "s5"
   ]
  },
  {
   "cell_type": "code",
   "execution_count": 124,
   "id": "3b78dc79",
   "metadata": {},
   "outputs": [],
   "source": [
    "s5.remove(2)"
   ]
  },
  {
   "cell_type": "code",
   "execution_count": 125,
   "id": "a89d0e50",
   "metadata": {},
   "outputs": [
    {
     "data": {
      "text/plain": [
       "{12, 23, 234, 3, 342, 45, 456, 567, 789, 'abc'}"
      ]
     },
     "execution_count": 125,
     "metadata": {},
     "output_type": "execute_result"
    }
   ],
   "source": [
    "s5"
   ]
  },
  {
   "cell_type": "code",
   "execution_count": null,
   "id": "14f388e7",
   "metadata": {},
   "outputs": [],
   "source": []
  }
 ],
 "metadata": {
  "kernelspec": {
   "display_name": "Python 3 (ipykernel)",
   "language": "python",
   "name": "python3"
  },
  "language_info": {
   "codemirror_mode": {
    "name": "ipython",
    "version": 3
   },
   "file_extension": ".py",
   "mimetype": "text/x-python",
   "name": "python",
   "nbconvert_exporter": "python",
   "pygments_lexer": "ipython3",
   "version": "3.10.6"
  }
 },
 "nbformat": 4,
 "nbformat_minor": 5
}
