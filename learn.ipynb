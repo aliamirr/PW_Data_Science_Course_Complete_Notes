{
 "cells": [
  {
   "cell_type": "code",
   "execution_count": null,
   "id": "f8b21be6",
   "metadata": {},
   "outputs": [],
   "source": [
    "int_= 3\n",
    "float_ = 5.\n",
    "range_ = range(3,45)\n",
    "list_ = []\n",
    "\n",
    "LIST = []\n",
    "LIST.append(int_)\n",
    "LIST.append(float_)\n",
    "LIST.append(range_)\n",
    "LIST.append(list_)\n",
    "# etc\n",
    "# etc\n",
    "# etc\n",
    "# etc\n",
    "print(LIST)"
   ]
  },
  {
   "cell_type": "code",
   "execution_count": null,
   "id": "c0f876fa",
   "metadata": {},
   "outputs": [],
   "source": [
    "for i in LIST:\n",
    "    if isinstance(i, range):"
   ]
  },
  {
   "cell_type": "code",
   "execution_count": null,
   "id": "d67366ec",
   "metadata": {},
   "outputs": [],
   "source": [
    "for i in LIST:\n",
    "    if isinstance(i, range):\n",
    "        LIST.append(range)\n",
    "        print(i)"
   ]
  },
  {
   "cell_type": "code",
   "execution_count": null,
   "id": "c7221ec4",
   "metadata": {},
   "outputs": [],
   "source": [
    "LIST = [3, 5.0, range(3, 45), []]\n",
    "\n",
    "for thing in LIST:\n",
    "    if type(thing) == range:\n",
    "        print(\"range was found -->\",thing,\"--> things inside this range object are -->,\",[*thing])"
   ]
  }
 ],
 "metadata": {
  "kernelspec": {
   "display_name": "Python 3 (ipykernel)",
   "language": "python",
   "name": "python3"
  },
  "language_info": {
   "codemirror_mode": {
    "name": "ipython",
    "version": 3
   },
   "file_extension": ".py",
   "mimetype": "text/x-python",
   "name": "python",
   "nbconvert_exporter": "python",
   "pygments_lexer": "ipython3",
   "version": "3.10.6"
  }
 },
 "nbformat": 4,
 "nbformat_minor": 5
}
