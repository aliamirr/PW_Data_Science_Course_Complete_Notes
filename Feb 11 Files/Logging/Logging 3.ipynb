{
 "cells": [
  {
   "cell_type": "code",
   "execution_count": 6,
   "id": "559252fd",
   "metadata": {},
   "outputs": [],
   "source": [
    "import logging"
   ]
  },
  {
   "cell_type": "code",
   "execution_count": 7,
   "id": "1e7d3a43",
   "metadata": {},
   "outputs": [],
   "source": [
    "logging.basicConfig(filename = \"test2.log\", level = logging.DEBUG, format = '%(asctime)s, %(name)s, %(levelname)s, %(message)s')"
   ]
  },
  {
   "cell_type": "code",
   "execution_count": 23,
   "id": "51aae1ee",
   "metadata": {},
   "outputs": [],
   "source": [
    "l = [1,2,3,34,4,[2,3,4], \"sudh\", \"kumar\"]"
   ]
  },
  {
   "cell_type": "code",
   "execution_count": 26,
   "id": "0205279c",
   "metadata": {},
   "outputs": [],
   "source": [
    "l1_int = []\n",
    "l2_string = []\n",
    "\n",
    "\n",
    "for i in l:\n",
    "    logging.info(\"we are iterating through our list and our local variable is {}\".format(l))\n",
    "    if type(i) == list:\n",
    "        logging.info(\"i am inside if statement and i am trying to check list type\")\n",
    "        for j in i:\n",
    "            logging.info(\"i am in another for loop for list inside list element\")\n",
    "            if type(j) == int:\n",
    "                logging.info(\"i am inside if statement\")\n",
    "                l1_int.append(j)\n",
    "    elif type(i) == int:\n",
    "        l1_int.append(i)\n",
    "    else:\n",
    "        if type(i) == str:\n",
    "            l2_string.append(i)\n",
    "logging.info(\"my final result for int is {l1} and str is {l2}\". format(l1 = l1_int, l2 = l2_string))"
   ]
  },
  {
   "cell_type": "code",
   "execution_count": 25,
   "id": "abfdbb43",
   "metadata": {},
   "outputs": [
    {
     "data": {
      "text/plain": [
       "[1, 2, 3, 34, 4, 2, 3, 4]"
      ]
     },
     "execution_count": 25,
     "metadata": {},
     "output_type": "execute_result"
    }
   ],
   "source": [
    "l1_int"
   ]
  },
  {
   "cell_type": "code",
   "execution_count": 21,
   "id": "918364c2",
   "metadata": {},
   "outputs": [
    {
     "data": {
      "text/plain": [
       "['sudh', 'kumar']"
      ]
     },
     "execution_count": 21,
     "metadata": {},
     "output_type": "execute_result"
    }
   ],
   "source": [
    "l2_string"
   ]
  },
  {
   "cell_type": "code",
   "execution_count": null,
   "id": "f0b208c3",
   "metadata": {},
   "outputs": [],
   "source": []
  },
  {
   "cell_type": "code",
   "execution_count": null,
   "id": "bb7ad39d",
   "metadata": {},
   "outputs": [],
   "source": []
  },
  {
   "cell_type": "code",
   "execution_count": null,
   "id": "d06678f6",
   "metadata": {},
   "outputs": [],
   "source": []
  },
  {
   "cell_type": "code",
   "execution_count": null,
   "id": "47ab72f2",
   "metadata": {},
   "outputs": [],
   "source": []
  },
  {
   "cell_type": "code",
   "execution_count": null,
   "id": "5b5f1420",
   "metadata": {},
   "outputs": [],
   "source": [
    "import os, sys\n",
    "from os.path import dirname, join, abspath\n",
    "\n",
    "sys.path.insert(0, abspath(join(dirname(__file__), '..')))\n",
    "\n",
    "from payment import payment_details\n",
    "\n",
    "def course():\n",
    "    print(\"this is my course details\")\n",
    "\n",
    "payment_details.payment()"
   ]
  },
  {
   "cell_type": "code",
   "execution_count": null,
   "id": "bc2542c0",
   "metadata": {},
   "outputs": [],
   "source": []
  },
  {
   "cell_type": "code",
   "execution_count": null,
   "id": "f83564ab",
   "metadata": {},
   "outputs": [],
   "source": [
    "import os, sys\n",
    "from os.path import dirname, join, abspath\n",
    "\n",
    "sys.path.insert(0, abspath(join(dirname(__file__), '..')))\n",
    "\n",
    "from course import course_details\n",
    "\n",
    "def payment():\n",
    "    print(\"this is my payment details\")\n",
    "\n",
    "course_details.course()"
   ]
  },
  {
   "cell_type": "code",
   "execution_count": null,
   "id": "1e00004d",
   "metadata": {},
   "outputs": [],
   "source": []
  },
  {
   "cell_type": "code",
   "execution_count": null,
   "id": "62d14578",
   "metadata": {},
   "outputs": [],
   "source": []
  },
  {
   "cell_type": "code",
   "execution_count": null,
   "id": "ca59dc4e",
   "metadata": {},
   "outputs": [],
   "source": [
    "import os, sys\n",
    "from os.path import dirname, join, abspath\n",
    "\n",
    "sys.path.insert(0, abspath(join(dirname(__file__), '..')))\n",
    "\n",
    "# from f_payment import payment_details\n",
    "\n",
    "def a_course():\n",
    "    print(\"this is my course details\")\n",
    "\n",
    "# payment_details.a_payment()"
   ]
  },
  {
   "cell_type": "code",
   "execution_count": null,
   "id": "5f0e8816",
   "metadata": {},
   "outputs": [],
   "source": []
  },
  {
   "cell_type": "code",
   "execution_count": null,
   "id": "d446a4a6",
   "metadata": {},
   "outputs": [],
   "source": [
    "import os, sys\n",
    "from os.path import dirname, join, abspath\n",
    "\n",
    "sys.path.insert(0, abspath(join(dirname(__file__), '..')))\n",
    "\n",
    "from f_course import course_details\n",
    "\n",
    "def a_payment():\n",
    "    print(\"this is my payment details\")\n",
    "\n",
    "course_details.a_course()"
   ]
  }
 ],
 "metadata": {
  "kernelspec": {
   "display_name": "Python 3 (ipykernel)",
   "language": "python",
   "name": "python3"
  },
  "language_info": {
   "codemirror_mode": {
    "name": "ipython",
    "version": 3
   },
   "file_extension": ".py",
   "mimetype": "text/x-python",
   "name": "python",
   "nbconvert_exporter": "python",
   "pygments_lexer": "ipython3",
   "version": "3.10.6"
  }
 },
 "nbformat": 4,
 "nbformat_minor": 5
}
