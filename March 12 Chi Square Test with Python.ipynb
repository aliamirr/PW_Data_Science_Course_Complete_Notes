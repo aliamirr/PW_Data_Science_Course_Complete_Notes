{
 "cells": [
  {
   "cell_type": "code",
   "execution_count": 1,
   "id": "6ad7a85c",
   "metadata": {},
   "outputs": [],
   "source": [
    "import scipy.stats as stat\n",
    "import numpy as np"
   ]
  },
  {
   "cell_type": "code",
   "execution_count": 21,
   "id": "9d9945fa",
   "metadata": {},
   "outputs": [],
   "source": [
    "## No. of hours students study in a weekly basis daily\n",
    "## monday, tuesday, wednesday, friday, saturday, sunday\n",
    "expected_data = [8, 6, 7, 9, 6, 9, 7]\n",
    "observed_data = [7, 8, 6, 9, 9, 6, 7]"
   ]
  },
  {
   "cell_type": "code",
   "execution_count": 22,
   "id": "f439a210",
   "metadata": {},
   "outputs": [
    {
     "data": {
      "text/plain": [
       "52"
      ]
     },
     "execution_count": 22,
     "metadata": {},
     "output_type": "execute_result"
    }
   ],
   "source": [
    "sum(expected_data)"
   ]
  },
  {
   "cell_type": "code",
   "execution_count": 8,
   "id": "a63af38b",
   "metadata": {},
   "outputs": [
    {
     "data": {
      "text/plain": [
       "52"
      ]
     },
     "execution_count": 8,
     "metadata": {},
     "output_type": "execute_result"
    }
   ],
   "source": [
    "sum(observed_data)"
   ]
  },
  {
   "cell_type": "code",
   "execution_count": 9,
   "id": "b5e019d1",
   "metadata": {},
   "outputs": [],
   "source": [
    "## Chi Square Goodness of Fit Test\n",
    "chisquare_test_statistics, p_value = stat.chisquare(observed_data, expected_data)"
   ]
  },
  {
   "cell_type": "code",
   "execution_count": 10,
   "id": "4de3286f",
   "metadata": {},
   "outputs": [
    {
     "data": {
      "text/plain": [
       "(3.4345238095238093, 0.7526596580922865)"
      ]
     },
     "execution_count": 10,
     "metadata": {},
     "output_type": "execute_result"
    }
   ],
   "source": [
    "chisquare_test_statistics, p_value"
   ]
  },
  {
   "cell_type": "code",
   "execution_count": 11,
   "id": "2f1f21c4",
   "metadata": {},
   "outputs": [],
   "source": [
    "## Find the critical Value"
   ]
  },
  {
   "cell_type": "code",
   "execution_count": 17,
   "id": "89d5b8a2",
   "metadata": {},
   "outputs": [
    {
     "name": "stdout",
     "output_type": "stream",
     "text": [
      "6\n"
     ]
    }
   ],
   "source": [
    "significane_value=0.05\n",
    "dof=len(expected_data)-1\n",
    "print(dof)\n",
    "critical_value = stat.chi2.ppf(1-significane_value,dof) #ppf: percent point fun(gives critcal value)"
   ]
  },
  {
   "cell_type": "code",
   "execution_count": 18,
   "id": "6629318e",
   "metadata": {},
   "outputs": [
    {
     "data": {
      "text/plain": [
       "12.591587243743977"
      ]
     },
     "execution_count": 18,
     "metadata": {},
     "output_type": "execute_result"
    }
   ],
   "source": [
    "critical_value"
   ]
  },
  {
   "cell_type": "code",
   "execution_count": null,
   "id": "c86bd01f",
   "metadata": {},
   "outputs": [],
   "source": []
  },
  {
   "cell_type": "code",
   "execution_count": 20,
   "id": "1caf21bf",
   "metadata": {},
   "outputs": [
    {
     "name": "stdout",
     "output_type": "stream",
     "text": [
      "Accept the null Hypothesis\n"
     ]
    }
   ],
   "source": [
    "if chisquare_test_statistics > critical_value:\n",
    "    print(\"Reject the null Hypothesis\") #Null Hypothesis: Whether the distribution is following wrt to observed and expected one.\n",
    "else:\n",
    "    print(\"Accept the null Hypothesis\")"
   ]
  },
  {
   "cell_type": "code",
   "execution_count": null,
   "id": "6e55b2aa",
   "metadata": {},
   "outputs": [],
   "source": []
  }
 ],
 "metadata": {
  "kernelspec": {
   "display_name": "Python 3 (ipykernel)",
   "language": "python",
   "name": "python3"
  },
  "language_info": {
   "codemirror_mode": {
    "name": "ipython",
    "version": 3
   },
   "file_extension": ".py",
   "mimetype": "text/x-python",
   "name": "python",
   "nbconvert_exporter": "python",
   "pygments_lexer": "ipython3",
   "version": "3.10.6"
  }
 },
 "nbformat": 4,
 "nbformat_minor": 5
}
