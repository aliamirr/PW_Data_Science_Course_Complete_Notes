{
 "cells": [
  {
   "cell_type": "code",
   "execution_count": 6,
   "id": "8f299f58",
   "metadata": {},
   "outputs": [],
   "source": [
    "l = [1,2,3,4,5]"
   ]
  },
  {
   "cell_type": "code",
   "execution_count": 7,
   "id": "b7b9f0ef",
   "metadata": {},
   "outputs": [
    {
     "name": "stdout",
     "output_type": "stream",
     "text": [
      "1 <class 'int'>\n",
      "2 <class 'int'>\n",
      "3 <class 'int'>\n",
      "4 <class 'int'>\n",
      "5 <class 'int'>\n"
     ]
    }
   ],
   "source": [
    "for i in l:\n",
    "    print(i, type(i))"
   ]
  },
  {
   "cell_type": "code",
   "execution_count": 8,
   "id": "8cf6b3fe",
   "metadata": {},
   "outputs": [
    {
     "name": "stdout",
     "output_type": "stream",
     "text": [
      "aamir\n",
      "ali\n",
      "irfan\n",
      "khan\n"
     ]
    }
   ],
   "source": [
    "l1 = [\"aamir\", \"ali\", \"irfan\",\"khan\"]\n",
    "for i in l1:\n",
    "    print(i)"
   ]
  },
  {
   "cell_type": "code",
   "execution_count": 9,
   "id": "facef3ea",
   "metadata": {},
   "outputs": [
    {
     "data": {
      "text/plain": [
       "['aamir', 'ali', 'irfan', 'khan']"
      ]
     },
     "execution_count": 9,
     "metadata": {},
     "output_type": "execute_result"
    }
   ],
   "source": [
    "l1"
   ]
  },
  {
   "cell_type": "code",
   "execution_count": 10,
   "id": "17a5b6f5",
   "metadata": {},
   "outputs": [
    {
     "ename": "SyntaxError",
     "evalue": "invalid syntax. Perhaps you forgot a comma? (374614337.py, line 4)",
     "output_type": "error",
     "traceback": [
      "\u001b[0;36m  Cell \u001b[0;32mIn[10], line 4\u001b[0;36m\u001b[0m\n\u001b[0;31m    print(\"if \"for loop\" is able to \"complete\" itself then only \"else\" will execute.\")\u001b[0m\n\u001b[0m                       ^\u001b[0m\n\u001b[0;31mSyntaxError\u001b[0m\u001b[0;31m:\u001b[0m invalid syntax. Perhaps you forgot a comma?\n"
     ]
    }
   ],
   "source": [
    "for i in l1:\n",
    "    print(i)\n",
    "else:\n",
    "    print(\"if \"for loop\" is able to \"complete\" itself then only \"else\" will execute.\")"
   ]
  },
  {
   "cell_type": "code",
   "execution_count": 11,
   "id": "a5cd5022",
   "metadata": {},
   "outputs": [
    {
     "data": {
      "text/plain": [
       "['aamir', 'ali', 'irfan', 'khan']"
      ]
     },
     "execution_count": 11,
     "metadata": {},
     "output_type": "execute_result"
    }
   ],
   "source": [
    "l1"
   ]
  },
  {
   "cell_type": "code",
   "execution_count": 12,
   "id": "71240610",
   "metadata": {},
   "outputs": [
    {
     "name": "stdout",
     "output_type": "stream",
     "text": [
      "aamir\n"
     ]
    }
   ],
   "source": [
    "for i in l1:\n",
    "    if i == \"ali\":\n",
    "        break\n",
    "    print(i)"
   ]
  },
  {
   "cell_type": "code",
   "execution_count": 13,
   "id": "e47290c1",
   "metadata": {},
   "outputs": [
    {
     "data": {
      "text/plain": [
       "['aamir', 'ali', 'irfan', 'khan']"
      ]
     },
     "execution_count": 13,
     "metadata": {},
     "output_type": "execute_result"
    }
   ],
   "source": [
    "l1"
   ]
  },
  {
   "cell_type": "code",
   "execution_count": 14,
   "id": "ce3332a3",
   "metadata": {},
   "outputs": [
    {
     "name": "stdout",
     "output_type": "stream",
     "text": [
      "aamir\n"
     ]
    }
   ],
   "source": [
    "for i in l1:\n",
    "    if i == \"ali\":\n",
    "        break\n",
    "    print(i)\n",
    "else:\n",
    "    print(\"execute this if for loop is able to complete itself.\")"
   ]
  },
  {
   "cell_type": "code",
   "execution_count": 72,
   "id": "47b39413",
   "metadata": {},
   "outputs": [
    {
     "data": {
      "text/plain": [
       "['aamir', 'ali', 'irfan', 'khan']"
      ]
     },
     "execution_count": 72,
     "metadata": {},
     "output_type": "execute_result"
    }
   ],
   "source": [
    "l1"
   ]
  },
  {
   "cell_type": "code",
   "execution_count": 73,
   "id": "2a2d24cd",
   "metadata": {},
   "outputs": [
    {
     "name": "stdout",
     "output_type": "stream",
     "text": [
      "aamir\n",
      "irfan\n",
      "khan\n"
     ]
    }
   ],
   "source": [
    "for i in l1:\n",
    "    if i == \"ali\":\n",
    "        continue\n",
    "    print(i)"
   ]
  },
  {
   "cell_type": "code",
   "execution_count": 74,
   "id": "cdca2b62",
   "metadata": {},
   "outputs": [
    {
     "name": "stdout",
     "output_type": "stream",
     "text": [
      "aamir\n",
      "irfan\n",
      "khan\n",
      "execute this if for loop is able to complete itself/or exnasust thrmr.\n"
     ]
    }
   ],
   "source": [
    "for i in l1:\n",
    "    if i == \"ali\":\n",
    "        continue\n",
    "    print(i)\n",
    "    \n",
    "else: print(\"execute this if for loop is able to complete itself/or exnasust thrmr.\")"
   ]
  },
  {
   "cell_type": "code",
   "execution_count": 75,
   "id": "dceee0cc",
   "metadata": {},
   "outputs": [
    {
     "data": {
      "text/plain": [
       "range(0, 5)"
      ]
     },
     "execution_count": 75,
     "metadata": {},
     "output_type": "execute_result"
    }
   ],
   "source": [
    "range(5)"
   ]
  },
  {
   "cell_type": "code",
   "execution_count": 76,
   "id": "e4f825ec",
   "metadata": {},
   "outputs": [
    {
     "data": {
      "text/plain": [
       "[0, 1, 2, 3, 4]"
      ]
     },
     "execution_count": 76,
     "metadata": {},
     "output_type": "execute_result"
    }
   ],
   "source": [
    "list(range(5))"
   ]
  },
  {
   "cell_type": "code",
   "execution_count": 77,
   "id": "39c1fd22",
   "metadata": {},
   "outputs": [
    {
     "data": {
      "text/plain": [
       "[0, 1, 2, 3, 4]"
      ]
     },
     "execution_count": 77,
     "metadata": {},
     "output_type": "execute_result"
    }
   ],
   "source": [
    "list(range(0, 5,1 ))"
   ]
  },
  {
   "cell_type": "code",
   "execution_count": 78,
   "id": "b9e64263",
   "metadata": {},
   "outputs": [
    {
     "data": {
      "text/plain": [
       "range(0, 20, 2)"
      ]
     },
     "execution_count": 78,
     "metadata": {},
     "output_type": "execute_result"
    }
   ],
   "source": [
    "range(0, 20, 2)"
   ]
  },
  {
   "cell_type": "code",
   "execution_count": 79,
   "id": "8b214c34",
   "metadata": {},
   "outputs": [
    {
     "data": {
      "text/plain": [
       "[0, 2, 4, 6, 8, 10, 12, 14, 16, 18]"
      ]
     },
     "execution_count": 79,
     "metadata": {},
     "output_type": "execute_result"
    }
   ],
   "source": [
    "list(range(0, 20, 2))"
   ]
  },
  {
   "cell_type": "code",
   "execution_count": 80,
   "id": "f0d5b93a",
   "metadata": {},
   "outputs": [
    {
     "data": {
      "text/plain": [
       "[-10, -8, -6, -4, -2]"
      ]
     },
     "execution_count": 80,
     "metadata": {},
     "output_type": "execute_result"
    }
   ],
   "source": [
    "list(range(-10,0,2))"
   ]
  },
  {
   "cell_type": "code",
   "execution_count": 81,
   "id": "313c7e7f",
   "metadata": {},
   "outputs": [
    {
     "data": {
      "text/plain": [
       "[-10, -9, -8, -7, -6, -5, -4, -3, -2, -1]"
      ]
     },
     "execution_count": 81,
     "metadata": {},
     "output_type": "execute_result"
    }
   ],
   "source": [
    "list(range(-10,0,))"
   ]
  },
  {
   "cell_type": "code",
   "execution_count": 82,
   "id": "0a8febcd",
   "metadata": {},
   "outputs": [
    {
     "data": {
      "text/plain": [
       "['aamir', 'ali', 'irfan', 'khan']"
      ]
     },
     "execution_count": 82,
     "metadata": {},
     "output_type": "execute_result"
    }
   ],
   "source": [
    "l1"
   ]
  },
  {
   "cell_type": "code",
   "execution_count": 83,
   "id": "16e91e1b",
   "metadata": {},
   "outputs": [
    {
     "data": {
      "text/plain": [
       "[4, 3, 2, 1]"
      ]
     },
     "execution_count": 83,
     "metadata": {},
     "output_type": "execute_result"
    }
   ],
   "source": [
    "list(range(len(l1),0,-1))"
   ]
  },
  {
   "cell_type": "code",
   "execution_count": 84,
   "id": "b3dcd400",
   "metadata": {},
   "outputs": [
    {
     "data": {
      "text/plain": [
       "[3, 2, 1, 0]"
      ]
     },
     "execution_count": 84,
     "metadata": {},
     "output_type": "execute_result"
    }
   ],
   "source": [
    "list(range(len(l1)-1,-1,-1))"
   ]
  },
  {
   "cell_type": "code",
   "execution_count": 85,
   "id": "f5d80152",
   "metadata": {},
   "outputs": [
    {
     "name": "stdout",
     "output_type": "stream",
     "text": [
      "khan\n",
      "irfan\n",
      "ali\n",
      "aamir\n"
     ]
    }
   ],
   "source": [
    "for i in range(len(l1)-1,-1,-1):\n",
    "    print(l1[i])"
   ]
  },
  {
   "cell_type": "code",
   "execution_count": 86,
   "id": "3e355c82",
   "metadata": {},
   "outputs": [],
   "source": [
    "# for i in range(len(l1)):\n",
    "#     pass\n",
    "# print(l1[::-1])"
   ]
  },
  {
   "cell_type": "code",
   "execution_count": 89,
   "id": "38c722b0",
   "metadata": {},
   "outputs": [
    {
     "name": "stdout",
     "output_type": "stream",
     "text": [
      "khan\n",
      "irfan\n",
      "ali\n",
      "aamir\n"
     ]
    }
   ],
   "source": [
    "for i in [3, 2, 1, 0]:\n",
    "    print(l1[i])"
   ]
  },
  {
   "cell_type": "code",
   "execution_count": 88,
   "id": "247167c9",
   "metadata": {},
   "outputs": [
    {
     "name": "stdout",
     "output_type": "stream",
     "text": [
      "['khan', 'irfan', 'ali', 'aamir']\n"
     ]
    }
   ],
   "source": [
    "o = []\n",
    "for i in range(len(l1)-1,-1,-1):\n",
    "    o.append(l1[i])\n",
    "print(o)"
   ]
  },
  {
   "cell_type": "code",
   "execution_count": null,
   "id": "6863704c",
   "metadata": {},
   "outputs": [],
   "source": []
  },
  {
   "cell_type": "code",
   "execution_count": 95,
   "id": "31082b52",
   "metadata": {},
   "outputs": [],
   "source": [
    "l2 = [23, 5, 45,56, 6, 67,67, 78, 87, 8998, 9, 9, 8]"
   ]
  },
  {
   "cell_type": "code",
   "execution_count": 96,
   "id": "a1c8fab1",
   "metadata": {},
   "outputs": [
    {
     "name": "stdout",
     "output_type": "stream",
     "text": [
      "23\n",
      "45\n",
      "6\n",
      "67\n",
      "87\n",
      "9\n",
      "8\n"
     ]
    }
   ],
   "source": [
    "for i in range(0,len(l2),2):\n",
    "    print(l2[i])"
   ]
  },
  {
   "cell_type": "code",
   "execution_count": 101,
   "id": "2ae376d0",
   "metadata": {},
   "outputs": [
    {
     "name": "stdout",
     "output_type": "stream",
     "text": [
      "123\n"
     ]
    }
   ],
   "source": [
    "l3 = [1,2,3,4,7,8,98]\n",
    "x = 0\n",
    "for i in l3:\n",
    "    x += i\n",
    "print(x)"
   ]
  },
  {
   "cell_type": "code",
   "execution_count": 102,
   "id": "c858034d",
   "metadata": {},
   "outputs": [
    {
     "data": {
      "text/plain": [
       "123"
      ]
     },
     "execution_count": 102,
     "metadata": {},
     "output_type": "execute_result"
    }
   ],
   "source": [
    "sum(l3)"
   ]
  },
  {
   "cell_type": "code",
   "execution_count": 109,
   "id": "6651287d",
   "metadata": {},
   "outputs": [
    {
     "name": "stdout",
     "output_type": "stream",
     "text": [
      "19\n"
     ]
    }
   ],
   "source": [
    "t = (1,2,3,4,4,5)\n",
    "x = 0\n",
    "for i in t : x+=i\n",
    "print(x)\n"
   ]
  },
  {
   "cell_type": "code",
   "execution_count": 113,
   "id": "cddb3419",
   "metadata": {},
   "outputs": [
    {
     "name": "stdout",
     "output_type": "stream",
     "text": [
      "aamir\n",
      "1\n",
      "2\n",
      "3\n",
      "4\n",
      "5\n",
      "pwskills\n"
     ]
    }
   ],
   "source": [
    "s = {1,2,3,4,5,\"aamir\", \"pwskills\"}\n",
    "for i in s:\n",
    "    print(i)"
   ]
  },
  {
   "cell_type": "code",
   "execution_count": 114,
   "id": "028b7404",
   "metadata": {},
   "outputs": [
    {
     "name": "stdout",
     "output_type": "stream",
     "text": [
      "a\n",
      "a\n",
      "m\n",
      "i\n",
      "r\n"
     ]
    }
   ],
   "source": [
    "s1 = \"aamir\"\n",
    "for i in s1:\n",
    "    print(i)"
   ]
  },
  {
   "cell_type": "code",
   "execution_count": 126,
   "id": "b904a0dd",
   "metadata": {},
   "outputs": [],
   "source": [
    "d = {\"name\": \"aamir\", \"class\":\"data science\", \n",
    "     \"topic\":[\"python\",\"stats\",\"machine learning\", \"DL\", \"CV\", \"NLP\", \"resume\", \"inteview\"]}"
   ]
  },
  {
   "cell_type": "code",
   "execution_count": 127,
   "id": "1399bc98",
   "metadata": {},
   "outputs": [
    {
     "data": {
      "text/plain": [
       "'aamir'"
      ]
     },
     "execution_count": 127,
     "metadata": {},
     "output_type": "execute_result"
    }
   ],
   "source": [
    "d[\"name\"]"
   ]
  },
  {
   "cell_type": "code",
   "execution_count": 128,
   "id": "206c8334",
   "metadata": {},
   "outputs": [
    {
     "data": {
      "text/plain": [
       "dict_keys(['name', 'class', 'topic'])"
      ]
     },
     "execution_count": 128,
     "metadata": {},
     "output_type": "execute_result"
    }
   ],
   "source": [
    "d.keys()"
   ]
  },
  {
   "cell_type": "code",
   "execution_count": 129,
   "id": "b2203652",
   "metadata": {},
   "outputs": [
    {
     "data": {
      "text/plain": [
       "dict_values(['aamir', 'data science', ['python', 'stats', 'machine learning', 'DL', 'CV', 'NLP', 'resume', 'inteview']])"
      ]
     },
     "execution_count": 129,
     "metadata": {},
     "output_type": "execute_result"
    }
   ],
   "source": [
    "d.values()"
   ]
  },
  {
   "cell_type": "code",
   "execution_count": 130,
   "id": "50a67c75",
   "metadata": {},
   "outputs": [
    {
     "name": "stdout",
     "output_type": "stream",
     "text": [
      "name\n",
      "class\n",
      "topic\n"
     ]
    }
   ],
   "source": [
    "for i in d.keys():\n",
    "    print(i)"
   ]
  },
  {
   "cell_type": "code",
   "execution_count": 131,
   "id": "c7c9c321",
   "metadata": {},
   "outputs": [
    {
     "name": "stdout",
     "output_type": "stream",
     "text": [
      "aamir\n",
      "data science\n",
      "['python', 'stats', 'machine learning', 'DL', 'CV', 'NLP', 'resume', 'inteview']\n"
     ]
    }
   ],
   "source": [
    "for i in d.keys():\n",
    "    print(d[i])"
   ]
  },
  {
   "cell_type": "code",
   "execution_count": 132,
   "id": "6695a7ad",
   "metadata": {},
   "outputs": [
    {
     "name": "stdout",
     "output_type": "stream",
     "text": [
      "aamir\n",
      "data science\n",
      "['python', 'stats', 'machine learning', 'DL', 'CV', 'NLP', 'resume', 'inteview']\n"
     ]
    }
   ],
   "source": [
    "for i in d.values():\n",
    "    print(i)"
   ]
  },
  {
   "cell_type": "code",
   "execution_count": 133,
   "id": "93836532",
   "metadata": {},
   "outputs": [
    {
     "name": "stdout",
     "output_type": "stream",
     "text": [
      "('name', 'aamir')\n",
      "('class', 'data science')\n",
      "('topic', ['python', 'stats', 'machine learning', 'DL', 'CV', 'NLP', 'resume', 'inteview'])\n"
     ]
    }
   ],
   "source": [
    "for i in d.items():\n",
    "    print(i)"
   ]
  },
  {
   "cell_type": "code",
   "execution_count": null,
   "id": "53142338",
   "metadata": {},
   "outputs": [],
   "source": []
  },
  {
   "cell_type": "code",
   "execution_count": null,
   "id": "dbf6af3b",
   "metadata": {},
   "outputs": [],
   "source": []
  }
 ],
 "metadata": {
  "kernelspec": {
   "display_name": "Python 3 (ipykernel)",
   "language": "python",
   "name": "python3"
  },
  "language_info": {
   "codemirror_mode": {
    "name": "ipython",
    "version": 3
   },
   "file_extension": ".py",
   "mimetype": "text/x-python",
   "name": "python",
   "nbconvert_exporter": "python",
   "pygments_lexer": "ipython3",
   "version": "3.10.6"
  }
 },
 "nbformat": 4,
 "nbformat_minor": 5
}
