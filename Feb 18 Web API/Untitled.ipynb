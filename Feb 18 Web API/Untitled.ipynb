{
 "cells": [
  {
   "cell_type": "markdown",
   "id": "1ab0f444",
   "metadata": {},
   "source": [
    "API application programming interface"
   ]
  },
  {
   "cell_type": "code",
   "execution_count": null,
   "id": "769cb893",
   "metadata": {},
   "outputs": [],
   "source": [
    "REST it is easier then soap, rest is stateless protocol but has catching"
   ]
  },
  {
   "cell_type": "code",
   "execution_count": null,
   "id": "0151fd57",
   "metadata": {},
   "outputs": [],
   "source": [
    "SOAP supports HTTP, SMTP(Simple mail transfer  protocol), TCP(transmission control protocol)"
   ]
  },
  {
   "cell_type": "code",
   "execution_count": null,
   "id": "b61680cf",
   "metadata": {},
   "outputs": [],
   "source": [
    "soap is light weighted protocol, more secure"
   ]
  },
  {
   "cell_type": "code",
   "execution_count": null,
   "id": "1e08451f",
   "metadata": {},
   "outputs": [],
   "source": [
    "XML Extensible Markup "
   ]
  },
  {
   "cell_type": "code",
   "execution_count": null,
   "id": "62d1c307",
   "metadata": {},
   "outputs": [],
   "source": [
    "WSDL Web Services Description Language "
   ]
  },
  {
   "cell_type": "code",
   "execution_count": null,
   "id": "0c006dc5",
   "metadata": {},
   "outputs": [],
   "source": []
  },
  {
   "cell_type": "code",
   "execution_count": null,
   "id": "c079b678",
   "metadata": {},
   "outputs": [],
   "source": [
    "RESTful services"
   ]
  },
  {
   "cell_type": "code",
   "execution_count": null,
   "id": "8477780a",
   "metadata": {},
   "outputs": [],
   "source": [
    "RESTful services, also known as as RESTful APIs, are web services that follow the REST \n",
    "architecture style. REST stands for Representational State Transfer, which is a set of \n",
    "principles for building web services that use HTTP as the communication protocol.\n",
    "\n",
    "RESTful services are based on the following principles:\n",
    "    \n",
    "Client-Server Architecture: The client and server are seprated, allowing them to evolve \n",
    "independently.\n",
    "\n",
    "\n",
    "Stateless: Each request sent to the server contains all the information needed to complete\n",
    "the request. The server does not maintain any client context between requests.\n",
    "\n",
    "Cacheable: Response from the server can be cached to improve performance.\n",
    "    \n",
    "Uniform interface: RESTful services use a uniform interface consisting of resources, HTTP \n",
    "verbs(GET, POST, PUT, DELETE) and hypermedia links.\n",
    "\n",
    "Layered Systems: RESTful services can be composed of multiple layers, allowing for scalability,\n",
    "    flexibilty and security"
   ]
  }
 ],
 "metadata": {
  "kernelspec": {
   "display_name": "Python 3 (ipykernel)",
   "language": "python",
   "name": "python3"
  },
  "language_info": {
   "codemirror_mode": {
    "name": "ipython",
    "version": 3
   },
   "file_extension": ".py",
   "mimetype": "text/x-python",
   "name": "python",
   "nbconvert_exporter": "python",
   "pygments_lexer": "ipython3",
   "version": "3.10.6"
  }
 },
 "nbformat": 4,
 "nbformat_minor": 5
}
